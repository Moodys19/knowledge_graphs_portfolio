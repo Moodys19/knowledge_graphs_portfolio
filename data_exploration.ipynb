{
 "cells": [
  {
   "cell_type": "markdown",
   "metadata": {},
   "source": [
    "# Data Preperation"
   ]
  },
  {
   "cell_type": "markdown",
   "metadata": {},
   "source": [
    "This notebook contains the data exploration and preperation."
   ]
  },
  {
   "cell_type": "code",
   "execution_count": 146,
   "metadata": {},
   "outputs": [],
   "source": [
    "import os\n",
    "import pandas as pd\n",
    "import numpy as np"
   ]
  },
  {
   "cell_type": "code",
   "execution_count": 147,
   "metadata": {},
   "outputs": [
    {
     "name": "stderr",
     "output_type": "stream",
     "text": [
      "C:\\Users\\mabsa\\AppData\\Local\\Temp\\ipykernel_4556\\1980341846.py:1: DtypeWarning: Columns (108) have mixed types. Specify dtype option on import or set low_memory=False.\n",
      "  players_df = pd.read_csv('C:\\mahmoud uni\\TU\\SS2024\\KGs\\Portfolio\\dataset\\player_dataset.csv')\n"
     ]
    }
   ],
   "source": [
    "players_df = pd.read_csv('C:\\mahmoud uni\\TU\\SS2024\\KGs\\Portfolio\\dataset\\player_dataset.csv')\n",
    "teams_df = pd.read_csv('C:\\mahmoud uni\\TU\\SS2024\\KGs\\Portfolio\\dataset\\\\team_dataset.csv')"
   ]
  },
  {
   "cell_type": "markdown",
   "metadata": {},
   "source": [
    "## Data Exploration"
   ]
  },
  {
   "cell_type": "code",
   "execution_count": 148,
   "metadata": {},
   "outputs": [],
   "source": [
    "# print(\"player dataframe columns: \", players_df.columns.to_list())\n",
    "# print(\"team dataframe columns: \", players_df.columns.to_list())\n"
   ]
  },
  {
   "cell_type": "markdown",
   "metadata": {},
   "source": [
    "### Player File"
   ]
  },
  {
   "cell_type": "code",
   "execution_count": 149,
   "metadata": {},
   "outputs": [
    {
     "name": "stdout",
     "output_type": "stream",
     "text": [
      "<class 'pandas.core.frame.DataFrame'>\n",
      "RangeIndex: 180021 entries, 0 to 180020\n",
      "Columns: 109 entries, player_id to gk\n",
      "dtypes: float64(20), int64(43), object(46)\n",
      "memory usage: 149.7+ MB\n",
      "None\n"
     ]
    }
   ],
   "source": [
    "# Basic info\n",
    "print(players_df.info())"
   ]
  },
  {
   "cell_type": "code",
   "execution_count": 150,
   "metadata": {},
   "outputs": [],
   "source": [
    "# Summary statistics\n",
    "#print(players_df.describe())"
   ]
  },
  {
   "cell_type": "code",
   "execution_count": 151,
   "metadata": {},
   "outputs": [
    {
     "name": "stdout",
     "output_type": "stream",
     "text": [
      "value_eur                          1.195972\n",
      "wage_eur                           1.026547\n",
      "club_team_id                       1.035990\n",
      "club_name                          1.035990\n",
      "league_id                          1.035990\n",
      "league_name                        1.035990\n",
      "league_level                       1.249854\n",
      "club_position                      1.035990\n",
      "club_jersey_number                 1.035990\n",
      "club_loaned_from                  94.043473\n",
      "club_joined_date                   6.992518\n",
      "club_contract_valid_until_year     1.035990\n",
      "nation_team_id                    94.390654\n",
      "nation_position                   94.390654\n",
      "nation_jersey_number              94.390654\n",
      "release_clause_eur                32.940046\n",
      "player_tags                       92.268680\n",
      "player_traits                     54.558079\n",
      "pace                              11.123147\n",
      "shooting                          11.123147\n",
      "passing                           11.123147\n",
      "dribbling                         11.123147\n",
      "defending                         11.123147\n",
      "physic                            11.123147\n",
      "mentality_composure               18.268980\n",
      "goalkeeping_speed                 88.876853\n",
      "dtype: float64\n"
     ]
    }
   ],
   "source": [
    "missing_values = players_df.isnull().sum()  # Calculate the number of missing values per column\n",
    "missing_values = missing_values[missing_values > 0]  # Filter columns with missing values\n",
    "#print(missing_values)\n",
    "# Calculate the fraction of missing values\n",
    "fraction_missing = missing_values / len(players_df) * 100\n",
    "print(fraction_missing)\n"
   ]
  },
  {
   "cell_type": "markdown",
   "metadata": {},
   "source": [
    "Wir gehen mal die Columns durch und schauen welche Variablen wir rausschmeißen und welche wir manipulierne bevor wir uns um die NAs kümmern\n",
    "\n",
    "- Club_position will be changed to whether player is a starter or not.\n",
    "- player_position will be changed so that its just GK, DEF, MF, Attack\n",
    "- Club loaned from -> on loan\n",
    "\n",
    "\n",
    "work rate aufteilen in workrate off und workrate def\n",
    "Wir werfen die positions spezifischen Ratings weg da die relevante information sich im allgemeinen Rating sowie in den einzelnen stats befindet. Wir lassen die Nationalmannschafts daten weg, weil fifa nicht alle nationalitäten beinhaltet und somit information verloren gehen würde \n",
    "Release Clause wird gedroppt weil diese daten nicht der realität entsprechen"
   ]
  },
  {
   "cell_type": "code",
   "execution_count": 152,
   "metadata": {},
   "outputs": [],
   "source": [
    "# We will drop columns not needed for the analysis\n",
    "drop_cols = ['fifa_update', 'update_as_of', 'short_name', 'club_jersey_number', 'nation_team_id', \n",
    "            'nation_position', 'dob', 'nation_jersey_number', 'club_loaned_from', 'player_tags',\n",
    "            'player_traits', 'real_face', \"release_clause_eur\",'ls', 'st', 'rs', 'lw', 'lf',\n",
    "            'cf', 'rf', 'rw', 'lam', 'cam', 'ram', 'lm', 'lcm', 'cm',  'rcm', 'rm', 'lwb', 'ldm', \n",
    "            'cdm', 'rdm', 'rwb', 'lb', 'lcb', 'cb', 'rcb', 'rb', 'gk']\n",
    "\n",
    "players_clean = players_df.drop(columns=drop_cols)"
   ]
  },
  {
   "cell_type": "code",
   "execution_count": 153,
   "metadata": {},
   "outputs": [],
   "source": [
    "## On loan\n",
    "# Create the on_loan column\n",
    "players_clean['on_loan'] = players_df['club_loaned_from'].apply(lambda x: 0 if pd.isnull(x) else 1)\n",
    "\n",
    "\n",
    "## Position\n",
    "# Define conditions\n",
    "conditions = [\n",
    "    players_df['club_position'] == \"RES\",\n",
    "    players_df['club_position'] == \"SUB\",\n",
    "    players_df['club_position'].notnull()  # Covers all other non-null cases\n",
    "]\n",
    "# Define corresponding values\n",
    "values = [0, 1, 2]\n",
    "players_clean['club_position'] = np.select(conditions, values, default=np.nan)\n",
    "\n",
    "# transform into date\n",
    "players_clean['club_joined_date'] = pd.to_datetime(players_clean[\"club_joined_date\"])\n"
   ]
  },
  {
   "cell_type": "code",
   "execution_count": 154,
   "metadata": {},
   "outputs": [],
   "source": [
    "# Define a mapping function\n",
    "def map_position(position):\n",
    "    if not isinstance(position, str):  # Handle missing or invalid values\n",
    "        return np.nan\n",
    "    first_position = position.split(', ')[0]  # Get the first position\n",
    "    if first_position == 'GK':\n",
    "        return 'GK'\n",
    "    elif first_position in ['ST', 'CF']:\n",
    "        return 'ATT'\n",
    "    elif first_position in ['RW', 'LW', 'RWB', 'LWB']:\n",
    "        return 'WING'\n",
    "    elif first_position in ['CM', 'CAM', 'CDM', 'LM', 'RM']:\n",
    "        return 'MID'\n",
    "    elif first_position in ['CB', 'RB', 'LB']:\n",
    "        return 'DEF'\n",
    "    else:\n",
    "        return np.nan\n",
    "\n",
    "# Apply the function to create a new column\n",
    "players_clean['position_category'] = players_clean['player_positions'].apply(map_position)\n",
    "\n",
    "#print(players_clean[['player_positions', 'position_category']].head())\n"
   ]
  },
  {
   "cell_type": "markdown",
   "metadata": {},
   "source": [
    "#### NA Handeling"
   ]
  },
  {
   "cell_type": "markdown",
   "metadata": {},
   "source": [
    "Für die GK stats kontrollieren wir ob das Torhüter sind und imputieren nicht GK 0.\n",
    "1 GK hat NA den nehmen wir raus"
   ]
  },
  {
   "cell_type": "code",
   "execution_count": 155,
   "metadata": {},
   "outputs": [],
   "source": [
    "\n",
    "# remove gk with missing gk speed\n",
    "players_clean = players_clean.drop(index=69892) # data wrangler\n",
    "players_clean.reset_index(drop=True, inplace=True)\n",
    "\n",
    "players_clean['goalkeeping_speed'] = players_clean['goalkeeping_speed'].fillna(0)\n"
   ]
  },
  {
   "cell_type": "code",
   "execution_count": 156,
   "metadata": {},
   "outputs": [],
   "source": [
    "temp = players_clean[['long_name', 'position_category', 'goalkeeping_speed']]\n"
   ]
  },
  {
   "cell_type": "code",
   "execution_count": 157,
   "metadata": {},
   "outputs": [
    {
     "name": "stdout",
     "output_type": "stream",
     "text": [
      "value_eur                          1.195972\n",
      "wage_eur                           1.026547\n",
      "club_team_id                       1.035990\n",
      "club_name                          1.035990\n",
      "league_id                          1.035990\n",
      "league_name                        1.035990\n",
      "league_level                       1.249854\n",
      "club_position                      1.035990\n",
      "club_joined_date                   6.992518\n",
      "club_contract_valid_until_year     1.035990\n",
      "pace                              11.123147\n",
      "shooting                          11.123147\n",
      "passing                           11.123147\n",
      "dribbling                         11.123147\n",
      "defending                         11.123147\n",
      "physic                            11.123147\n",
      "mentality_composure               18.268980\n",
      "dtype: float64\n"
     ]
    }
   ],
   "source": [
    "missing_values = players_clean.isnull().sum()  # Calculate the number of missing values per column\n",
    "missing_values = missing_values[missing_values > 0]  # Filter columns with missing values\n",
    "#print(missing_values)\n",
    "# Calculate the fraction of missing values\n",
    "fraction_missing = missing_values / len(players_df) * 100\n",
    "print(fraction_missing)"
   ]
  },
  {
   "cell_type": "code",
   "execution_count": null,
   "metadata": {},
   "outputs": [],
   "source": [
    "# Group by 'league_name' and transform to get the most common 'league_level'\n",
    "league_level_fill = players_clean.groupby('league_name', )['league_level'].transform(lambda x: x.mode()[0] if not x.mode().empty else np.nan)\n",
    "players_clean['league_level'] = players_clean['league_level'].fillna(league_level_fill)\n",
    "\n"
   ]
  },
  {
   "cell_type": "markdown",
   "metadata": {},
   "source": [
    "TODO:\n",
    " - check mal spalten wie league_level, macht das Sinn?\n",
    " - check mal ähnliche spalten auf consistency\n",
    " - NA handling müssen wir fertig machen"
   ]
  },
  {
   "cell_type": "code",
   "execution_count": null,
   "metadata": {},
   "outputs": [],
   "source": [
    "\n",
    "grouped_avg_value = players_clean.groupby(['age', 'overall', 'league_level', 'position_category'])['value_eur'].transform('mean')\n",
    "\n",
    "# Fill missing values in 'value_eur' with the calculated group averages\n",
    "players_clean['value_eur'] = players_clean['value_eur'].fillna(grouped_avg_value) # remaining NAs are players over 40\n",
    "players_clean['value_eur'] = players_clean['value_eur'].fillna(0)\n",
    "\n"
   ]
  },
  {
   "cell_type": "code",
   "execution_count": 144,
   "metadata": {},
   "outputs": [
    {
     "name": "stdout",
     "output_type": "stream",
     "text": [
      "(177997, 72)\n"
     ]
    }
   ],
   "source": [
    "# now we check whether the NAs overlap\n",
    "# Select rows with at least one NaN\n",
    "rows_with_nan = players_clean[players_clean.isnull().any(axis=1)]\n",
    "players_clean['nans_per_row'] = players_clean.isnull().sum(axis=1)\n",
    "\n",
    "# Remove rows with more than 10 missing values\n",
    "players_clean = players_clean[players_clean.isnull().sum(axis=1) <= 7]\n",
    "\n",
    "# Reset index if needed\n",
    "players_clean.reset_index(drop=True, inplace=True)\n",
    "\n",
    "# Check the updated DataFrame\n",
    "print(players_clean.shape)"
   ]
  },
  {
   "cell_type": "code",
   "execution_count": 145,
   "metadata": {},
   "outputs": [
    {
     "name": "stdout",
     "output_type": "stream",
     "text": [
      "club_joined_date        5.868760\n",
      "pace                   10.877064\n",
      "shooting               10.877064\n",
      "passing                10.877064\n",
      "dribbling              10.877064\n",
      "defending              10.877064\n",
      "physic                 10.877064\n",
      "mentality_composure    17.919576\n",
      "dtype: float64\n"
     ]
    }
   ],
   "source": [
    "missing_values = players_clean.isnull().sum()  # Calculate the number of missing values per column\n",
    "missing_values = missing_values[missing_values > 0]  # Filter columns with missing values\n",
    "#print(missing_values)\n",
    "# Calculate the fraction of missing values\n",
    "fraction_missing = missing_values / len(players_df) * 100\n",
    "print(fraction_missing)\n"
   ]
  },
  {
   "cell_type": "code",
   "execution_count": null,
   "metadata": {},
   "outputs": [],
   "source": [
    "\n",
    "\n"
   ]
  },
  {
   "cell_type": "markdown",
   "metadata": {},
   "source": [
    "### Team File"
   ]
  },
  {
   "cell_type": "code",
   "execution_count": 6,
   "metadata": {},
   "outputs": [
    {
     "data": {
      "text/plain": [
       "array(['Premier League', 'La Liga', 'Friendly International',\n",
       "       'Bundesliga', 'Ligue 1', 'Serie A', 'Liga Portugal', 'Super Lig',\n",
       "       'Pro League', 'Eredivisie', 'Liga Profesional', 'Championship',\n",
       "       'Super League', 'Premiership', 'Jupiler Pro League', 'La Liga 2',\n",
       "       'Fortuna Liga', 'Major League Soccer', 'Superliga',\n",
       "       '2. Bundesliga', '1. HNL', 'Ligue 2', 'NB I.', 'Liga BetPlay',\n",
       "       'Liga Pro', 'Primera División', 'Serie B', 'Allsvenskan',\n",
       "       'Eliteserien', 'K League 1', 'Primera Division', 'Ekstraklasa',\n",
       "       '1. Division', 'Liga 1', 'League One', 'Liga De Futbol Prof',\n",
       "       '3. Liga', 'A-League', 'League Two', 'Veikkausliiga',\n",
       "       'Premier Division', 'Liga MX', 'J-League'], dtype=object)"
      ]
     },
     "execution_count": 6,
     "metadata": {},
     "output_type": "execute_result"
    }
   ],
   "source": [
    "teams_df.league_name.unique()"
   ]
  },
  {
   "cell_type": "code",
   "execution_count": null,
   "metadata": {},
   "outputs": [],
   "source": [
    "print(teams_df.info())\n",
    "print(teams_df.describe())\n"
   ]
  },
  {
   "cell_type": "code",
   "execution_count": null,
   "metadata": {},
   "outputs": [],
   "source": [
    "# Check for missing values\n",
    "print(teams_df.isnull().sum())"
   ]
  },
  {
   "cell_type": "markdown",
   "metadata": {},
   "source": [
    "NationalT Teams raus"
   ]
  }
 ],
 "metadata": {
  "kernelspec": {
   "display_name": "kg_project",
   "language": "python",
   "name": "python3"
  },
  "language_info": {
   "codemirror_mode": {
    "name": "ipython",
    "version": 3
   },
   "file_extension": ".py",
   "mimetype": "text/x-python",
   "name": "python",
   "nbconvert_exporter": "python",
   "pygments_lexer": "ipython3",
   "version": "3.9.20"
  }
 },
 "nbformat": 4,
 "nbformat_minor": 2
}

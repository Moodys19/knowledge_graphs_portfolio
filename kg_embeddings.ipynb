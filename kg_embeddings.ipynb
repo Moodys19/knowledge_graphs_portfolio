{
 "cells": [
  {
   "cell_type": "markdown",
   "metadata": {},
   "source": [
    "# Knowledge Graph Embeddings"
   ]
  },
  {
   "cell_type": "code",
   "execution_count": 16,
   "metadata": {},
   "outputs": [],
   "source": [
    "from rdflib import Graph, Namespace\n",
    "from rdflib.namespace import RDF\n",
    "import pandas as pd\n",
    "import pykeen\n",
    "from pykeen.pipeline import pipeline\n",
    "from pykeen.triples import TriplesFactory\n",
    "import os\n",
    "import numpy as np\n",
    "import torch\n",
    "from collections import defaultdict\n",
    "from sklearn.model_selection import train_test_split\n",
    "from pykeen.models import Model\n",
    "import re"
   ]
  },
  {
   "cell_type": "code",
   "execution_count": 17,
   "metadata": {},
   "outputs": [
    {
     "data": {
      "text/plain": [
       "'c:\\\\mahmoud uni\\\\TU\\\\SS2024\\\\KGs\\\\Portfolio'"
      ]
     },
     "execution_count": 17,
     "metadata": {},
     "output_type": "execute_result"
    }
   ],
   "source": [
    "os.getcwd()"
   ]
  },
  {
   "cell_type": "markdown",
   "metadata": {},
   "source": [
    "## Load Knowledge Graph"
   ]
  },
  {
   "cell_type": "code",
   "execution_count": 18,
   "metadata": {},
   "outputs": [
    {
     "data": {
      "text/plain": [
       "<Graph identifier=N058aaa31c70c4c0faa27cb80900d5e46 (<class 'rdflib.graph.Graph'>)>"
      ]
     },
     "execution_count": 18,
     "metadata": {},
     "output_type": "execute_result"
    }
   ],
   "source": [
    "BASE = Namespace(\"http://www.semanticweb.org/mabsa/ontologies/2024/10/ea-fc-ontology/\")\n",
    "g = Graph()\n",
    "ontology_file = r\"dataset\\EA_FC_knowledge_graph.ttl\" \n",
    "g.parse(ontology_file, format=\"ttl\")"
   ]
  },
  {
   "cell_type": "code",
   "execution_count": 19,
   "metadata": {},
   "outputs": [
    {
     "name": "stdout",
     "output_type": "stream",
     "text": [
      "Total Players: 8672\n",
      "Total Clubs: 2163\n",
      "Total Leagues: 175\n"
     ]
    }
   ],
   "source": [
    "# Extract Entities\n",
    "players = set(g.subjects(RDF.type, BASE.Player))\n",
    "clubs = set(g.subjects(RDF.type, BASE.Club))\n",
    "leagues = set(g.subjects(RDF.type, BASE.League))\n",
    "\n",
    "print(f\"Total Players: {len(players)}\")\n",
    "print(f\"Total Clubs: {len(clubs)}\")\n",
    "print(f\"Total Leagues: {len(leagues)}\")"
   ]
  },
  {
   "cell_type": "markdown",
   "metadata": {},
   "source": [
    "# Split Preperation"
   ]
  },
  {
   "cell_type": "code",
   "execution_count": 20,
   "metadata": {},
   "outputs": [
    {
     "name": "stdout",
     "output_type": "stream",
     "text": [
      "Total Players in KG: 8672\n",
      "Total Players Extracted: 2168\n"
     ]
    }
   ],
   "source": [
    "# Player extracting unique ID for each player\n",
    "unique_player_ids = set()\n",
    "player_id_to_triples = defaultdict(list)\n",
    "\n",
    "\n",
    "players = list(g.subjects(RDF.type, BASE.Player)) # player nodes\n",
    "\n",
    "# mapping players to unique id\n",
    "player_to_id = {}\n",
    "\n",
    "for player in players:\n",
    "    for pred, obj in g.predicate_objects(player):\n",
    "        if pred == BASE.player_id:\n",
    "            player_id_full = str(obj)  \n",
    "            player_unique_id = player_id_full.split('_')[0] # full ID e.g., '139068_21' -> wird zu 139068\n",
    "            player_to_id[player] = player_unique_id\n",
    "            unique_player_ids.add(player_unique_id)\n",
    "\n",
    "for s, p, o in g:\n",
    "    player_id = None\n",
    "\n",
    "    if s in player_to_id:\n",
    "        player_id = player_to_id[s]\n",
    "\n",
    "    elif o in player_to_id:\n",
    "        player_id = player_to_id[o]\n",
    "\n",
    "    if player_id:\n",
    "        player_id_to_triples[player_id].append((str(s), str(p), str(o)))\n",
    "\n",
    "print(f\"Total Players in KG: {len(players)}\")\n",
    "print(f\"Total Players Extracted: {len(player_id_to_triples)}\")\n",
    "\n",
    "# Step 4: Shuffle and split unique players\n",
    "unique_player_ids = list(unique_player_ids)\n",
    "np.random.seed(1120) \n",
    "np.random.shuffle(unique_player_ids)\n",
    "\n",
    "# Define split ratios\n",
    "train_ratio, val_ratio = 0.6, 0.2\n",
    "num_players = len(unique_player_ids)\n",
    "\n",
    "train_cutoff = int(train_ratio * num_players)\n",
    "val_cutoff = int((train_ratio + val_ratio) * num_players)\n",
    "\n",
    "# Assign players to train, validation, and test sets\n",
    "train_players = set(unique_player_ids[:train_cutoff])\n",
    "val_players = set(unique_player_ids[train_cutoff:val_cutoff])\n",
    "test_players = set(unique_player_ids[val_cutoff:])\n",
    "\n",
    "# Step 5: Assign triples to respective sets\n",
    "train_triples, val_triples, test_triples = [], [], []\n",
    "\n",
    "for player_id, triples in player_id_to_triples.items():\n",
    "    if player_id in train_players:\n",
    "        train_triples.extend(triples)\n",
    "    elif player_id in val_players:\n",
    "        val_triples.extend(triples)\n",
    "    elif player_id in test_players:\n",
    "        test_triples.extend(triples)\n",
    "\n",
    "# Convert lists to numpy arrays\n",
    "train_array = np.array(train_triples, dtype=str)\n",
    "val_array = np.array(val_triples, dtype=str)\n",
    "test_array = np.array(test_triples, dtype=str)\n",
    "\n",
    "# Step 6: Create PyKEEN TriplesFactory objects\n",
    "training = TriplesFactory.from_labeled_triples(train_array)\n",
    "validation = TriplesFactory.from_labeled_triples(val_array)\n",
    "testing = TriplesFactory.from_labeled_triples(test_array)\n",
    "\n"
   ]
  },
  {
   "cell_type": "code",
   "execution_count": 21,
   "metadata": {},
   "outputs": [],
   "source": [
    "# # Step 1: Extract unique player IDs\n",
    "# unique_player_ids = set()\n",
    "# player_id_to_triples = defaultdict(list)\n",
    "\n",
    "# # Mapping players to unique ID\n",
    "# player_to_id = {}\n",
    "\n",
    "# for player in players:\n",
    "#     for pred, obj in g.predicate_objects(player):\n",
    "#         if pred == BASE.player_id:\n",
    "#             player_id_full = str(obj)  \n",
    "#             player_unique_id = player_id_full.split('_')[0] # full ID e.g., '139068_21' -> wird zu 139068\n",
    "#             player_to_id[player] = player_unique_id\n",
    "#             unique_player_ids.add(player_unique_id)\n",
    "\n",
    "# # Step 2: Assign triples based on extracted player IDs\n",
    "# for s, p, o in g:\n",
    "#     player_id = None\n",
    "\n",
    "#     # If subject is a player, get its ID\n",
    "#     if s in player_to_id:\n",
    "#         player_id = player_to_id[s]\n",
    "\n",
    "#     # If object is a player, get its ID\n",
    "#     elif o in player_to_id:\n",
    "#         player_id = player_to_id[o]\n",
    "\n",
    "#     # Store the triple if it belongs to a player\n",
    "#     if player_id:\n",
    "#         player_id_to_triples[player_id].append((str(s), str(p), str(o)))\n",
    "\n",
    "# # Debugging: Print extracted player stats\n",
    "# print(f\"Total Players in KG: {len(players)}\")\n",
    "# print(f\"Total Players Extracted: {len(player_id_to_triples)}\")\n",
    "\n",
    "# player_unique_id\n",
    "\n",
    "\n",
    "# # Step 3: Shuffle and split unique players\n",
    "# unique_player_ids = list(unique_player_ids)\n",
    "# np.random.seed(1120) \n",
    "# np.random.shuffle(unique_player_ids)\n",
    "\n",
    "# # Define split ratios\n",
    "# train_ratio, val_ratio = 0.6, 0.2\n",
    "# num_players = len(unique_player_ids)\n",
    "\n",
    "# train_cutoff = int(train_ratio * num_players)\n",
    "# val_cutoff = int((train_ratio + val_ratio) * num_players)\n",
    "\n",
    "# # Assign players to train, validation, and test sets\n",
    "# train_players = set(unique_player_ids[:train_cutoff])\n",
    "# val_players = set(unique_player_ids[train_cutoff:val_cutoff])\n",
    "# test_players = set(unique_player_ids[val_cutoff:])\n",
    "\n",
    "# # Step 4: Assign triples to respective sets\n",
    "# train_triples, val_triples, test_triples = [], [], []\n",
    "\n",
    "# for player_id, triples in player_id_to_triples.items():\n",
    "#     if player_id in train_players:\n",
    "#         train_triples.extend(triples)\n",
    "#     elif player_id in val_players:\n",
    "#         val_triples.extend(triples)\n",
    "#     elif player_id in test_players:\n",
    "#         test_triples.extend(triples)\n",
    "\n",
    "# # Convert lists to numpy arrays\n",
    "# train_array = np.array(train_triples, dtype=str)\n",
    "# val_array = np.array(val_triples, dtype=str)\n",
    "# test_array = np.array(test_triples, dtype=str)\n",
    "\n",
    "\n",
    "# # Step 5: Create PyKEEN TriplesFactory objects\n",
    "# training = TriplesFactory.from_labeled_triples(train_array)\n",
    "# validation = TriplesFactory.from_labeled_triples(val_array)\n",
    "# testing = TriplesFactory.from_labeled_triples(test_array)\n",
    "\n",
    "# # Debug: Print split stats\n",
    "# print(f\"Train Set: {len(train_array)} triples\")\n",
    "# print(f\"Validation Set: {len(val_array)} triples\")\n",
    "# print(f\"Test Set: {len(test_array)} triples\")\n"
   ]
  },
  {
   "cell_type": "code",
   "execution_count": 22,
   "metadata": {},
   "outputs": [
    {
     "name": "stdout",
     "output_type": "stream",
     "text": [
      "TriplesFactory(num_entities=15331, num_relations=54, create_inverse_triples=False, num_triples=280800)\n",
      "TriplesFactory(num_entities=6192, num_relations=54, create_inverse_triples=False, num_triples=93744)\n",
      "TriplesFactory(num_entities=6160, num_relations=54, create_inverse_triples=False, num_triples=93744)\n"
     ]
    }
   ],
   "source": [
    "print(training)\n",
    "print(validation)\n",
    "print(testing)"
   ]
  },
  {
   "cell_type": "markdown",
   "metadata": {},
   "source": [
    "# KG Embeddings"
   ]
  },
  {
   "cell_type": "code",
   "execution_count": 23,
   "metadata": {},
   "outputs": [
    {
     "name": "stdout",
     "output_type": "stream",
     "text": [
      "True\n",
      "1\n"
     ]
    }
   ],
   "source": [
    "print(torch.cuda.is_available()) \n",
    "print(torch.cuda.device_count())  \n",
    "#print(torch.cuda.get_device_name(0))  # Name of the first GPU"
   ]
  },
  {
   "cell_type": "code",
   "execution_count": 24,
   "metadata": {},
   "outputs": [
    {
     "name": "stderr",
     "output_type": "stream",
     "text": [
      "INFO:pykeen.pipeline.api:Using device: cuda\n",
      "Training epochs on cuda:0: 100%|██████████| 50/50 [01:38<00:00,  1.97s/epoch, loss=0.59, prev_loss=0.59]  \n",
      "Evaluating on cuda:0: 100%|██████████| 93.7k/93.7k [01:14<00:00, 1.26ktriple/s]\n",
      "INFO:pykeen.evaluation.evaluator:Evaluation took 251.21s seconds\n",
      "INFO:pykeen.triples.triples_factory:Stored TriplesFactory(num_entities=15331, num_relations=54, create_inverse_triples=False, num_triples=280800) to file:///C:/mahmoud%20uni/TU/SS2024/KGs/Portfolio/models/ea_fc_embeddings/training_triples\n",
      "INFO:pykeen.pipeline.api:Saved to directory: C:\\mahmoud uni\\TU\\SS2024\\KGs\\Portfolio\\models\\ea_fc_embeddings\n"
     ]
    }
   ],
   "source": [
    "embedding_results = pykeen.pipeline.pipeline(\n",
    "    model=\"TransE\", # TransE\n",
    "    loss=\"softplus\",\n",
    "    \n",
    "    training=training,\n",
    "    testing=testing,\n",
    "    validation=validation,\n",
    "\n",
    "    training_kwargs=dict(\n",
    "        num_epochs=50,  # Maximum possible epochs\n",
    "        batch_size=512, \n",
    "    ),\n",
    "    \n",
    "    optimizer=\"Adam\",\n",
    "    random_seed=1120,\n",
    "    device=\"cuda\",\n",
    "    optimizer_kwargs=dict(lr=0.005),\n",
    "\n",
    "    #stopper=\"early\",\n",
    "    #stopper_kwargs=dict(frequency=10, patience=5, relative_delta=0.01)\n",
    ")\n",
    "\n",
    "# Save trained embeddings\n",
    "embedding_results.save_to_directory(\"models/ea_fc_embeddings\")"
   ]
  },
  {
   "cell_type": "code",
   "execution_count": 25,
   "metadata": {},
   "outputs": [
    {
     "data": {
      "text/plain": [
       "<Axes: title={'center': 'Losses Plot'}, xlabel='Epoch', ylabel='softplus Loss'>"
      ]
     },
     "execution_count": 25,
     "metadata": {},
     "output_type": "execute_result"
    },
    {
     "data": {
      "image/png": "[encoded data removed]",
      "text/plain": [
       "<Figure size 640x480 with 1 Axes>"
      ]
     },
     "metadata": {},
     "output_type": "display_data"
    }
   ],
   "source": [
    "embedding_results.plot_losses()"
   ]
  },
  {
   "cell_type": "code",
   "execution_count": 26,
   "metadata": {},
   "outputs": [],
   "source": [
    "#import json\n",
    "#print(json.dumps(embedding_results.metric_results.to_dict(), indent=4))"
   ]
  },
  {
   "cell_type": "code",
   "execution_count": 27,
   "metadata": {},
   "outputs": [
    {
     "name": "stdout",
     "output_type": "stream",
     "text": [
      "Hits@1: 6.933777095067418e-05\n",
      "Hits@3: 0.00021868066222904933\n",
      "Hits@5: 0.0003786909028844513\n",
      "Hits@10: 0.0007733828298344428\n",
      "Mean Reciprocal Rank: 0.0010371963726356626\n",
      "Mean Rank: 4477.28173828125\n"
     ]
    }
   ],
   "source": [
    "print(f\"Hits@1: {embedding_results.get_metric('hits@1')}\")\n",
    "print(f\"Hits@3: {embedding_results.get_metric('hits@3')}\")\n",
    "print(f\"Hits@5: {embedding_results.get_metric('hits@5')}\")\n",
    "print(f\"Hits@10: {embedding_results.get_metric('hits@10')}\")\n",
    "print(f\"Mean Reciprocal Rank: {embedding_results.get_metric('mean_reciprocal_rank')}\")\n",
    "print(\"Mean Rank:\", embedding_results.metric_results.get_metric(\"mean_rank\"))\n"
   ]
  },
  {
   "cell_type": "markdown",
   "metadata": {},
   "source": [
    "# Player Comparison"
   ]
  },
  {
   "cell_type": "code",
   "execution_count": 28,
   "metadata": {},
   "outputs": [],
   "source": [
    "# Load trained model\n",
    "model: Model = embedding_results.model  # Extract trained model\n",
    "\n",
    "# Get entity-to-ID mapping (FIXED)\n",
    "entity_to_id = embedding_results.training.entity_to_id  # Directly access entity_to_id\n",
    "id_to_entity = {v: k for k, v in entity_to_id.items()}\n",
    "\n",
    "# Extract all entity embeddings\n",
    "embeddings = model.entity_representations[0]().detach().cpu().numpy()"
   ]
  },
  {
   "cell_type": "code",
   "execution_count": null,
   "metadata": {},
   "outputs": [],
   "source": [
    "from sklearn.metrics.pairwise import cosine_similarity\n",
    "import re\n",
    "from rdflib import URIRef\n",
    "\n",
    "def get_similar_players(player_uri, top_k=5):\n",
    "    \"\"\"Finds the most similar players using a two-step approach:\n",
    "    1. Extracts the top 20 most similar players by cosine similarity.\n",
    "    2. Filters the top_k most similar players based on weighted similarity.\"\"\"\n",
    "    \n",
    "    # Extract base player ID (remove FIFA version, e.g., \"138830_22\" → \"138830\")\n",
    "    match = re.search(r'Player_(\\d+)_\\d+', player_uri)\n",
    "    base_player_id = match.group(1) if match else None\n",
    "    \n",
    "    # Ensure the player exists in entity_to_id\n",
    "    if player_uri not in entity_to_id:\n",
    "        print(f\"Player {player_uri} not found in embeddings.\")\n",
    "        return []\n",
    "    \n",
    "    # Extract queried player details\n",
    "    queried_player_name = \"Unknown\"\n",
    "    queried_player_age, queried_player_position, queried_player_physic = \"N/A\", \"N/A\", \"N/A\"\n",
    "    queried_player_mentality, queried_player_work_rate, queried_player_overall = \"N/A\", \"N/A\", \"N/A\"\n",
    "\n",
    "    for p, o in g.predicate_objects(URIRef(player_uri)):\n",
    "        if str(p) == str(BASE + \"name\"):\n",
    "            queried_player_name = str(o)\n",
    "        elif str(p) == str(BASE + \"age\"):\n",
    "            queried_player_age = int(o)  \n",
    "        elif str(p) == str(BASE + \"position_category\"):\n",
    "            queried_player_position = str(o)\n",
    "        elif str(p) == str(BASE + \"physic\"):\n",
    "            queried_player_physic = int(o)  \n",
    "        elif str(p) == str(BASE + \"mentality_composure\"):\n",
    "            queried_player_mentality = int(o)  \n",
    "        elif str(p) == str(BASE + \"work_rate\"):\n",
    "            queried_player_work_rate = str(o)  \n",
    "        elif str(p) == str(BASE + \"overall\"):\n",
    "            queried_player_overall = int(o)  \n",
    "\n",
    "    player_idx = entity_to_id[player_uri]\n",
    "    player_embedding = embeddings[player_idx].reshape(1, -1)\n",
    "\n",
    "    # Compute cosine similarity\n",
    "    similarities = cosine_similarity(player_embedding, embeddings)[0]\n",
    "\n",
    "    # Weights for each component\n",
    "    w_cosine = 0.40\n",
    "    w_position = 0.25\n",
    "    w_physic = 0.15\n",
    "    w_mentality = 0.10\n",
    "    w_work_rate = 0.10\n",
    "\n",
    "    # Sort by cosine similarity (highest first) and take top 20\n",
    "    similar_indices = np.argsort(similarities)[::-1]\n",
    "    top_cosine_candidates = 20 if top_k <= 20 else top_k  # Ensure minimum 20 candidates\n",
    "    similar_players = []\n",
    "\n",
    "    for idx in similar_indices[:top_cosine_candidates]:\n",
    "        candidate_uri = id_to_entity[idx]\n",
    "        match = re.search(r'Player_(\\d+)_\\d+', candidate_uri)\n",
    "        candidate_base_id = match.group(1) if match else None\n",
    "\n",
    "        # Extract candidate player details\n",
    "        player_name, player_age, player_position = \"Unknown\", \"N/A\", \"N/A\"\n",
    "        player_physic, player_mentality, player_work_rate, player_overall = \"N/A\", \"N/A\", \"N/A\", \"N/A\"\n",
    "\n",
    "        for p, o in g.predicate_objects(URIRef(candidate_uri)):\n",
    "            if str(p) == str(BASE + \"name\"):\n",
    "                player_name = str(o)\n",
    "            elif str(p) == str(BASE + \"age\"):\n",
    "                player_age = int(o)  \n",
    "            elif str(p) == str(BASE + \"position_category\"):\n",
    "                player_position = str(o)\n",
    "            elif str(p) == str(BASE + \"physic\"):\n",
    "                player_physic = int(o)  \n",
    "            elif str(p) == str(BASE + \"mentality_composure\"):\n",
    "                player_mentality = int(o)  \n",
    "            elif str(p) == str(BASE + \"work_rate\"):\n",
    "                player_work_rate = str(o)  \n",
    "            elif str(p) == str(BASE + \"overall\"):\n",
    "                player_overall = int(o)  \n",
    "\n",
    "        # **Weighted Similarity Calculation**\n",
    "        cosine_score = similarities[idx]\n",
    "\n",
    "        # Position similarity (1 if same, 0 otherwise)\n",
    "        position_score = 1 if queried_player_position == player_position else 0\n",
    "\n",
    "        # Physical similarity (normalized difference)\n",
    "        physic_diff = abs(int(queried_player_physic) - int(player_physic))\n",
    "        physic_score = 1 - (physic_diff / 100)  \n",
    "\n",
    "        # Mentality similarity (normalized difference)\n",
    "        mentality_diff = abs(int(queried_player_mentality) - int(player_mentality))\n",
    "        mentality_score = 1 - (mentality_diff / 100)  \n",
    "\n",
    "        # Work Rate similarity (1 if same, 0 otherwise)\n",
    "        work_rate_score = 1 if queried_player_work_rate == player_work_rate else 0\n",
    "\n",
    "        # Final weighted similarity score\n",
    "        weighted_score = (\n",
    "            w_cosine * cosine_score +\n",
    "            w_position * position_score +\n",
    "            w_physic * physic_score +\n",
    "            w_mentality * mentality_score +\n",
    "            w_work_rate * work_rate_score\n",
    "        )\n",
    "\n",
    "        # Exclude same player versions and ensure entity is a player\n",
    "        if candidate_base_id and candidate_base_id != base_player_id and candidate_uri.startswith((BASE + \"Player_\")):\n",
    "            similar_players.append((candidate_uri, player_name, player_age, player_position, player_physic, player_mentality, player_work_rate, player_overall, cosine_score, weighted_score))\n",
    "\n",
    "    # Sort players by weighted similarity and extract final top_k players\n",
    "    similar_players = sorted(similar_players, key=lambda x: x[-1], reverse=True)[:top_k]\n",
    "\n",
    "    # Print the results\n",
    "    print(\"Most Similar Players to:\")\n",
    "    print(f\"{queried_player_name} (Age: {queried_player_age}, Position: {queried_player_position}, Physical: {queried_player_physic}, Mentality: {queried_player_mentality}, Work Rate: {queried_player_work_rate}, Overall: {queried_player_overall})\\n\")\n",
    "    \n",
    "    print(f\"{'Name':<30} {'Age':<5} {'Position':<10} {'Physic':<8} {'Mentality':<10} {'Work Rate':<12} {'Overall':<8} {'Cosine Sim':<12} {'Weighted Sim':<10}\")\n",
    "    print(\"-\" * 150)\n",
    "    for uri, name, age, position, physic, mentality, work_rate, overall, cosine_score, weighted_score in similar_players:\n",
    "        print(f\"{name:<30} {age:<5} {position:<10} {physic:<8} {mentality:<10} {work_rate:<12} {overall:<8} {cosine_score:.4f}       {weighted_score:.4f}\")\n",
    "\n",
    "    return similar_players\n"
   ]
  },
  {
   "cell_type": "code",
   "execution_count": 63,
   "metadata": {},
   "outputs": [
    {
     "name": "stdout",
     "output_type": "stream",
     "text": [
      "\n",
      "🔍 Most Similar Players to:\n",
      "🎯 Martin Ødegaard (Age: 23, Position: MID, Physical: 63, Mentality: 78, Work Rate: High/Medium, Overall: 84)\n",
      "\n",
      "Name                           Age   Position   Physic   Mentality  Work Rate    Overall  Cosine Sim   Weighted Sim\n",
      "------------------------------------------------------------------------------------------------------------------------------------------------------\n",
      "Fabián Ruiz Peña               24    MID        68       77         Medium/Medium 82       0.9979       0.8907\n",
      "Saša Lukić                     24    MID        68       76         Medium/Medium 75       0.9980       0.8897\n",
      "Ryan Jiro Gravenberch          18    MID        63       65         Medium/Medium 71       0.9980       0.8862\n",
      "Denis Athanase Bouanga         26    MID        69       72         High/High    76       0.9980       0.8842\n",
      "Pierre Lees-Melou              29    MID        74       77         High/High    75       0.9986       0.8819\n",
      "Andri Fannar Baldursson        20    MID        63       60         Medium/Medium 62       0.9981       0.8812\n",
      "Facundo Pellistri Rebollo      18    MID        61       61         High/Low     71       0.9980       0.8792\n",
      "Mario René Junior Lemina       26    MID        72       68         Medium/Medium 77       0.9979       0.8757\n",
      "Thomas Ince                    29    MID        50       67         Medium/Low   68       0.9979       0.8687\n",
      "Duván Esteban Zapata Banguera  29    ATT        83       82         High/Medium  83       0.9983       0.7153\n"
     ]
    }
   ],
   "source": [
    "query_player = BASE + \"Player_222665_23\"  # Example FIFA 22 player\n",
    "\n",
    "similar_players = get_similar_players(query_player, 10)"
   ]
  }
 ],
 "metadata": {
  "kernelspec": {
   "display_name": "kg_project",
   "language": "python",
   "name": "python3"
  },
  "language_info": {
   "codemirror_mode": {
    "name": "ipython",
    "version": 3
   },
   "file_extension": ".py",
   "mimetype": "text/x-python",
   "name": "python",
   "nbconvert_exporter": "python",
   "pygments_lexer": "ipython3",
   "version": "3.9.20"
  }
 },
 "nbformat": 4,
 "nbformat_minor": 2
}

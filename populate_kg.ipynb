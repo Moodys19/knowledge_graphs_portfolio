{
 "cells": [
  {
   "cell_type": "markdown",
   "metadata": {},
   "source": [
    "# Populate Knowledge Graph"
   ]
  },
  {
   "cell_type": "code",
   "execution_count": 6,
   "metadata": {},
   "outputs": [],
   "source": [
    "import pandas as pd\n",
    "import numpy as np\n",
    "from rdflib import Graph, Namespace, URIRef, Literal\n",
    "from rdflib.namespace import RDF, RDFS, OWL, XSD"
   ]
  },
  {
   "cell_type": "markdown",
   "metadata": {},
   "source": [
    "## Load Data"
   ]
  },
  {
   "cell_type": "code",
   "execution_count": 7,
   "metadata": {},
   "outputs": [
    {
     "name": "stderr",
     "output_type": "stream",
     "text": [
      "C:\\Users\\mabsa\\AppData\\Local\\Temp\\ipykernel_3956\\2811839796.py:2: DtypeWarning: Columns (64) have mixed types. Specify dtype option on import or set low_memory=False.\n",
      "  player_df = pd.read_csv(r\"C:\\mahmoud uni\\TU\\SS2024\\KGs\\Portfolio\\dataset\\players_clean.csv\", delimiter=';')\n"
     ]
    }
   ],
   "source": [
    "# fifa data\n",
    "player_df = pd.read_csv(r\"C:\\mahmoud uni\\TU\\SS2024\\KGs\\Portfolio\\dataset\\players_clean.csv\", delimiter=';')\n",
    "team_df = pd.read_csv(r\"C:\\mahmoud uni\\TU\\SS2024\\KGs\\Portfolio\\dataset\\teams_clean.csv\", delimiter=';')\n",
    "league_df = pd.read_csv(r\"C:\\mahmoud uni\\TU\\SS2024\\KGs\\Portfolio\\dataset\\league_clean.csv\", delimiter=';')\n"
   ]
  },
  {
   "cell_type": "code",
   "execution_count": 8,
   "metadata": {},
   "outputs": [],
   "source": [
    "# Load the ontology\n",
    "g = Graph()\n",
    "ontology_file = \"C:\\mahmoud uni\\TU\\SS2024\\KGs\\Portfolio\\EA_FC_ontology.ttl\"\n",
    "g.parse(ontology_file, format=\"ttl\")\n",
    "\n",
    "# Define namespaces\n",
    "BASE = Namespace(\"http://www.semanticweb.org/mabsa/ontologies/2024/10/ea-fc-ontology/\")\n",
    "g.bind(\"base\", BASE)\n",
    "\n",
    "# Other namespaces \n",
    "OWL = Namespace(\"http://www.w3.org/2002/07/owl#\")\n",
    "RDF = Namespace(\"http://www.w3.org/1999/02/22-rdf-syntax-ns#\")\n",
    "RDFS = Namespace(\"http://www.w3.org/2000/01/rdf-schema#\")"
   ]
  },
  {
   "cell_type": "markdown",
   "metadata": {},
   "source": [
    "## Populate the Knowledge Graph"
   ]
  },
  {
   "cell_type": "code",
   "execution_count": null,
   "metadata": {},
   "outputs": [],
   "source": [
    "for _, row in player_df.iterrows():\n",
    "    # Create URIs for Player and Club\n",
    "    player_uri = BASE[f\"Player_{row['key']}\"]\n",
    "    club_uri = BASE[f\"Club_{row['team_key']}\"]\n",
    "    league_uri = BASE[f\"League_{row['league_key']}\"]\n",
    "    \n",
    "    # Data properties\n",
    "    g.add((player_uri, BASE.name, Literal(row['long_name'], datatype=XSD.string)))\n",
    "    g.add((player_uri, BASE.age, Literal(row['age'], datatype=XSD.integer)))\n",
    "    g.add((player_uri, BASE.club_contract_valid_until_year, Literal(row['club_contract_valid_until_year'], datatype=XSD.integer)))\n",
    "    g.add((player_uri, BASE.club_joined_date, Literal(row['club_joined_date'], datatype=XSD.date)))\n",
    "    g.add((player_uri, BASE.club_position, Literal(row['club_position'], datatype=XSD.integer)))\n",
    "    g.add((player_uri, BASE.defending, Literal(row['defending'], datatype=XSD.integer)))\n",
    "    g.add((player_uri, BASE.dribbling, Literal(row['dribbling'], datatype=XSD.integer)))\n",
    "    g.add((player_uri, BASE.fifa_version, Literal(row['fifa_version'], datatype=XSD.integer)))\n",
    "    g.add((player_uri, BASE.height_cm, Literal(row['height_cm'], datatype=XSD.float)))\n",
    "    g.add((player_uri, BASE.on_loan, Literal(row['on_loan'], datatype=XSD.boolean)))\n",
    "    g.add((player_uri, BASE.overall, Literal(row['overall'], datatype=XSD.integer)))\n",
    "    g.add((player_uri, BASE.pace, Literal(row['pace'], datatype=XSD.integer)))\n",
    "    g.add((player_uri, BASE.passing, Literal(row['passing'], datatype=XSD.integer)))\n",
    "    g.add((player_uri, BASE.physic, Literal(row['physic'], datatype=XSD.integer)))\n",
    "    g.add((player_uri, BASE.player_id, Literal(row['player_id'], datatype=XSD.string)))\n",
    "    g.add((player_uri, BASE.player_positions, Literal(row['player_positions'], datatype=XSD.string)))\n",
    "    g.add((player_uri, BASE.potential, Literal(row['potential'], datatype=XSD.integer)))\n",
    "    g.add((player_uri, BASE.preferred_foot, Literal(row['preferred_foot'], datatype=XSD.string)))\n",
    "    g.add((player_uri, BASE.shooting, Literal(row['shooting'], datatype=XSD.integer)))\n",
    "    g.add((player_uri, BASE.skill_moves, Literal(row['skill_moves'], datatype=XSD.integer)))\n",
    "    g.add((player_uri, BASE.value_eur, Literal(row['value_eur'], datatype=XSD.float)))\n",
    "    g.add((player_uri, BASE.wage_eur, Literal(row['wage_eur'], datatype=XSD.float)))\n",
    "    g.add((player_uri, BASE.weak_foot, Literal(row['weak_foot'], datatype=XSD.integer)))\n",
    "    g.add((player_uri, BASE.weight_kg, Literal(row['weight_kg'], datatype=XSD.float)))\n",
    "    \n",
    "    # Add relationship: plays_for\n",
    "    g.add((player_uri, BASE.plays_for, club_uri))  # Relationship to Club\n",
    "    g.add((player_uri, BASE.competes_in, league_uri))  # Relationship to League\n",
    "    \n",
    "\n",
    "    # Add club information\n",
    "    # g.add((club_uri, RDF.type, BASE.Club))\n",
    "    # g.add((club_uri, BASE.name, Literal(row['club_name'], datatype=XSD.string)))\n"
   ]
  }
 ],
 "metadata": {
  "kernelspec": {
   "display_name": "kg_project",
   "language": "python",
   "name": "python3"
  },
  "language_info": {
   "codemirror_mode": {
    "name": "ipython",
    "version": 3
   },
   "file_extension": ".py",
   "mimetype": "text/x-python",
   "name": "python",
   "nbconvert_exporter": "python",
   "pygments_lexer": "ipython3",
   "version": "3.9.20"
  }
 },
 "nbformat": 4,
 "nbformat_minor": 2
}

{
 "cells": [
  {
   "cell_type": "markdown",
   "metadata": {},
   "source": [
    "# Graph Neural Network"
   ]
  },
  {
   "cell_type": "code",
   "execution_count": 1,
   "metadata": {},
   "outputs": [],
   "source": [
    "import pandas as pd\n",
    "import numpy as np\n",
    "from rdflib import Graph, Namespace, URIRef, Literal\n",
    "from rdflib.namespace import RDF, RDFS, OWL, XSD\n",
    "\n",
    "from sklearn.preprocessing import StandardScaler\n",
    "from sklearn.preprocessing import OneHotEncoder\n",
    "import torch\n",
    "from torch_geometric.data import Data\n",
    "\n",
    "import os"
   ]
  },
  {
   "cell_type": "code",
   "execution_count": 2,
   "metadata": {},
   "outputs": [
    {
     "data": {
      "text/plain": [
       "'c:\\\\mahmoud uni\\\\TU\\\\SS2024\\\\KGs\\\\Portfolio'"
      ]
     },
     "execution_count": 2,
     "metadata": {},
     "output_type": "execute_result"
    }
   ],
   "source": [
    "os.getcwd()"
   ]
  },
  {
   "cell_type": "markdown",
   "metadata": {},
   "source": [
    "## Load Knowledge Graph"
   ]
  },
  {
   "cell_type": "code",
   "execution_count": 3,
   "metadata": {},
   "outputs": [
    {
     "data": {
      "text/plain": [
       "<Graph identifier=N645c13b8f90d4de58e61fc699c342316 (<class 'rdflib.graph.Graph'>)>"
      ]
     },
     "execution_count": 3,
     "metadata": {},
     "output_type": "execute_result"
    }
   ],
   "source": [
    "# # Load the ontology\n",
    "g = Graph()\n",
    "#ontology_file = r\"C:\\mahmoud uni\\TU\\SS2024\\KGs\\Portfolio\\dataset\\EA_FC_knowledge_graph_small.ttl\" \n",
    "ontology_file = r\"dataset\\EA_FC_knowledge_graph_small.ttl\" \n",
    "g.parse(ontology_file, format=\"ttl\")\n",
    "\n",
    "# g = Graph()\n",
    "# ontology_file = r\"dataset\\EA_FC_knowledge_graph.nt\" \n",
    "# g.parse(ontology_file, format=\"nt\")"
   ]
  },
  {
   "cell_type": "code",
   "execution_count": 4,
   "metadata": {},
   "outputs": [],
   "source": [
    "# Other namespaces \n",
    "OWL = Namespace(\"http://www.w3.org/2002/07/owl#\")\n",
    "RDF = Namespace(\"http://www.w3.org/1999/02/22-rdf-syntax-ns#\")\n",
    "RDFS = Namespace(\"http://www.w3.org/2000/01/rdf-schema#\")\n",
    "BASE = Namespace(\"http://www.semanticweb.org/mabsa/ontologies/2024/10/ea-fc-ontology/\")"
   ]
  },
  {
   "cell_type": "code",
   "execution_count": 5,
   "metadata": {},
   "outputs": [
    {
     "name": "stdout",
     "output_type": "stream",
     "text": [
      "Total triples: 50772\n",
      "Total Players: 776\n",
      "Total Teams: 608\n",
      "Total Leagues: 143\n"
     ]
    }
   ],
   "source": [
    "# Count all triples\n",
    "print(f\"Total triples: {len(g)}\")\n",
    "\n",
    "# Check for specific class membership\n",
    "player_count = len(list(g.subjects(RDF.type, BASE.Player)))\n",
    "print(f\"Total Players: {player_count}\")\n",
    "\n",
    "team_count = len(list(g.subjects(RDF.type, BASE.Club)))\n",
    "print(f\"Total Teams: {team_count}\")\n",
    "\n",
    "league_count = len(list(g.subjects(RDF.type, BASE.League)))\n",
    "print(f\"Total Leagues: {league_count}\")"
   ]
  },
  {
   "cell_type": "markdown",
   "metadata": {},
   "source": [
    "## Analyze the KG"
   ]
  },
  {
   "cell_type": "code",
   "execution_count": 6,
   "metadata": {},
   "outputs": [],
   "source": [
    "import networkx as nx\n",
    "import matplotlib.pyplot as plt"
   ]
  },
  {
   "cell_type": "code",
   "execution_count": 17,
   "metadata": {},
   "outputs": [],
   "source": [
    "from rdflib.extras.external_graph_libs import rdflib_to_networkx_multidigraph\n",
    "\n",
    "nx_graph = rdflib_to_networkx_multidigraph(g)"
   ]
  },
  {
   "cell_type": "code",
   "execution_count": 18,
   "metadata": {},
   "outputs": [
    {
     "name": "stdout",
     "output_type": "stream",
     "text": [
      "Number of nodes: 5131\n",
      "Number of edges: 50772\n",
      "Ratio edges to nodes: 9.9\n"
     ]
    }
   ],
   "source": [
    "num_nodes = nx_graph.number_of_nodes()\n",
    "num_edges = nx_graph.number_of_edges()\n",
    "print(f'Number of nodes: {num_nodes}')\n",
    "print(f'Number of edges: {num_edges}')\n",
    "print(f'Ratio edges to nodes: {round(num_edges / num_nodes, 2)}')"
   ]
  },
  {
   "cell_type": "code",
   "execution_count": 26,
   "metadata": {},
   "outputs": [],
   "source": [
    "from torch_geometric.utils.convert import to_networkx, from_networkx\n",
    "pyg_graph = from_networkx(nx_graph)"
   ]
  },
  {
   "cell_type": "code",
   "execution_count": null,
   "metadata": {},
   "outputs": [
    {
     "data": {
      "text/plain": [
       "5131"
      ]
     },
     "execution_count": 30,
     "metadata": {},
     "output_type": "execute_result"
    }
   ],
   "source": []
  },
  {
   "cell_type": "markdown",
   "metadata": {},
   "source": [
    "## Preprocessing"
   ]
  },
  {
   "cell_type": "code",
   "execution_count": 36,
   "metadata": {},
   "outputs": [
    {
     "name": "stdout",
     "output_type": "stream",
     "text": [
      "Extracted Player Features: [rdflib.term.URIRef('http://www.semanticweb.org/mabsa/ontologies/2024/10/ea-fc-ontology/age'), rdflib.term.URIRef('http://www.semanticweb.org/mabsa/ontologies/2024/10/ea-fc-ontology/club_contract_valid_until_year'), rdflib.term.URIRef('http://www.semanticweb.org/mabsa/ontologies/2024/10/ea-fc-ontology/club_joined_date'), rdflib.term.URIRef('http://www.semanticweb.org/mabsa/ontologies/2024/10/ea-fc-ontology/club_position'), rdflib.term.URIRef('http://www.semanticweb.org/mabsa/ontologies/2024/10/ea-fc-ontology/defending'), rdflib.term.URIRef('http://www.semanticweb.org/mabsa/ontologies/2024/10/ea-fc-ontology/defending_marking_awareness'), rdflib.term.URIRef('http://www.semanticweb.org/mabsa/ontologies/2024/10/ea-fc-ontology/defending_sliding_tackle'), rdflib.term.URIRef('http://www.semanticweb.org/mabsa/ontologies/2024/10/ea-fc-ontology/defending_standing_tackle'), rdflib.term.URIRef('http://www.semanticweb.org/mabsa/ontologies/2024/10/ea-fc-ontology/dribbling'), rdflib.term.URIRef('http://www.semanticweb.org/mabsa/ontologies/2024/10/ea-fc-ontology/fifa_version'), rdflib.term.URIRef('http://www.semanticweb.org/mabsa/ontologies/2024/10/ea-fc-ontology/goalkeeping_diving'), rdflib.term.URIRef('http://www.semanticweb.org/mabsa/ontologies/2024/10/ea-fc-ontology/goalkeeping_handling'), rdflib.term.URIRef('http://www.semanticweb.org/mabsa/ontologies/2024/10/ea-fc-ontology/goalkeeping_kicking'), rdflib.term.URIRef('http://www.semanticweb.org/mabsa/ontologies/2024/10/ea-fc-ontology/goalkeeping_positioning'), rdflib.term.URIRef('http://www.semanticweb.org/mabsa/ontologies/2024/10/ea-fc-ontology/goalkeeping_reflexes'), rdflib.term.URIRef('http://www.semanticweb.org/mabsa/ontologies/2024/10/ea-fc-ontology/goalkeeping_speed'), rdflib.term.URIRef('http://www.semanticweb.org/mabsa/ontologies/2024/10/ea-fc-ontology/height_cm'), rdflib.term.URIRef('http://www.semanticweb.org/mabsa/ontologies/2024/10/ea-fc-ontology/mentality_aggression'), rdflib.term.URIRef('http://www.semanticweb.org/mabsa/ontologies/2024/10/ea-fc-ontology/mentality_composure'), rdflib.term.URIRef('http://www.semanticweb.org/mabsa/ontologies/2024/10/ea-fc-ontology/mentality_interceptions'), rdflib.term.URIRef('http://www.semanticweb.org/mabsa/ontologies/2024/10/ea-fc-ontology/mentality_penalties'), rdflib.term.URIRef('http://www.semanticweb.org/mabsa/ontologies/2024/10/ea-fc-ontology/mentality_positioning'), rdflib.term.URIRef('http://www.semanticweb.org/mabsa/ontologies/2024/10/ea-fc-ontology/mentality_vision'), rdflib.term.URIRef('http://www.semanticweb.org/mabsa/ontologies/2024/10/ea-fc-ontology/movement_acceleration'), rdflib.term.URIRef('http://www.semanticweb.org/mabsa/ontologies/2024/10/ea-fc-ontology/movement_agility'), rdflib.term.URIRef('http://www.semanticweb.org/mabsa/ontologies/2024/10/ea-fc-ontology/movement_balance'), rdflib.term.URIRef('http://www.semanticweb.org/mabsa/ontologies/2024/10/ea-fc-ontology/movement_reactions'), rdflib.term.URIRef('http://www.semanticweb.org/mabsa/ontologies/2024/10/ea-fc-ontology/movement_sprint_speed'), rdflib.term.URIRef('http://www.semanticweb.org/mabsa/ontologies/2024/10/ea-fc-ontology/name'), rdflib.term.URIRef('http://www.semanticweb.org/mabsa/ontologies/2024/10/ea-fc-ontology/on_loan'), rdflib.term.URIRef('http://www.semanticweb.org/mabsa/ontologies/2024/10/ea-fc-ontology/overall'), rdflib.term.URIRef('http://www.semanticweb.org/mabsa/ontologies/2024/10/ea-fc-ontology/pace'), rdflib.term.URIRef('http://www.semanticweb.org/mabsa/ontologies/2024/10/ea-fc-ontology/passing'), rdflib.term.URIRef('http://www.semanticweb.org/mabsa/ontologies/2024/10/ea-fc-ontology/physic'), rdflib.term.URIRef('http://www.semanticweb.org/mabsa/ontologies/2024/10/ea-fc-ontology/player_id'), rdflib.term.URIRef('http://www.semanticweb.org/mabsa/ontologies/2024/10/ea-fc-ontology/position_category'), rdflib.term.URIRef('http://www.semanticweb.org/mabsa/ontologies/2024/10/ea-fc-ontology/potential'), rdflib.term.URIRef('http://www.semanticweb.org/mabsa/ontologies/2024/10/ea-fc-ontology/power_jumping'), rdflib.term.URIRef('http://www.semanticweb.org/mabsa/ontologies/2024/10/ea-fc-ontology/power_long_shots'), rdflib.term.URIRef('http://www.semanticweb.org/mabsa/ontologies/2024/10/ea-fc-ontology/power_shot_power'), rdflib.term.URIRef('http://www.semanticweb.org/mabsa/ontologies/2024/10/ea-fc-ontology/power_stamina'), rdflib.term.URIRef('http://www.semanticweb.org/mabsa/ontologies/2024/10/ea-fc-ontology/power_strength'), rdflib.term.URIRef('http://www.semanticweb.org/mabsa/ontologies/2024/10/ea-fc-ontology/preferred_foot'), rdflib.term.URIRef('http://www.semanticweb.org/mabsa/ontologies/2024/10/ea-fc-ontology/shooting'), rdflib.term.URIRef('http://www.semanticweb.org/mabsa/ontologies/2024/10/ea-fc-ontology/skill_moves'), rdflib.term.URIRef('http://www.semanticweb.org/mabsa/ontologies/2024/10/ea-fc-ontology/value_eur'), rdflib.term.URIRef('http://www.semanticweb.org/mabsa/ontologies/2024/10/ea-fc-ontology/wage_eur'), rdflib.term.URIRef('http://www.semanticweb.org/mabsa/ontologies/2024/10/ea-fc-ontology/weak_foot'), rdflib.term.URIRef('http://www.semanticweb.org/mabsa/ontologies/2024/10/ea-fc-ontology/weight_kg')]\n",
      "Extracted Club Features: [rdflib.term.URIRef('http://www.semanticweb.org/mabsa/ontologies/2024/10/ea-fc-ontology/attack'), rdflib.term.URIRef('http://www.semanticweb.org/mabsa/ontologies/2024/10/ea-fc-ontology/club_worth_eur'), rdflib.term.URIRef('http://www.semanticweb.org/mabsa/ontologies/2024/10/ea-fc-ontology/defence'), rdflib.term.URIRef('http://www.semanticweb.org/mabsa/ontologies/2024/10/ea-fc-ontology/domestic_prestige'), rdflib.term.URIRef('http://www.semanticweb.org/mabsa/ontologies/2024/10/ea-fc-ontology/international_prestige'), rdflib.term.URIRef('http://www.semanticweb.org/mabsa/ontologies/2024/10/ea-fc-ontology/midfield'), rdflib.term.URIRef('http://www.semanticweb.org/mabsa/ontologies/2024/10/ea-fc-ontology/name'), rdflib.term.URIRef('http://www.semanticweb.org/mabsa/ontologies/2024/10/ea-fc-ontology/overall'), rdflib.term.URIRef('http://www.semanticweb.org/mabsa/ontologies/2024/10/ea-fc-ontology/starting_xi_average_age'), rdflib.term.URIRef('http://www.semanticweb.org/mabsa/ontologies/2024/10/ea-fc-ontology/transfer_budget_eur'), rdflib.term.URIRef('http://www.semanticweb.org/mabsa/ontologies/2024/10/ea-fc-ontology/whole_team_average_age')]\n",
      "Extracted League Features: [rdflib.term.URIRef('http://www.semanticweb.org/mabsa/ontologies/2024/10/ea-fc-ontology/attack'), rdflib.term.URIRef('http://www.semanticweb.org/mabsa/ontologies/2024/10/ea-fc-ontology/club_worth_eur'), rdflib.term.URIRef('http://www.semanticweb.org/mabsa/ontologies/2024/10/ea-fc-ontology/defence'), rdflib.term.URIRef('http://www.semanticweb.org/mabsa/ontologies/2024/10/ea-fc-ontology/league_level'), rdflib.term.URIRef('http://www.semanticweb.org/mabsa/ontologies/2024/10/ea-fc-ontology/league_nationality_name'), rdflib.term.URIRef('http://www.semanticweb.org/mabsa/ontologies/2024/10/ea-fc-ontology/midfield'), rdflib.term.URIRef('http://www.semanticweb.org/mabsa/ontologies/2024/10/ea-fc-ontology/name'), rdflib.term.URIRef('http://www.semanticweb.org/mabsa/ontologies/2024/10/ea-fc-ontology/overall'), rdflib.term.URIRef('http://www.semanticweb.org/mabsa/ontologies/2024/10/ea-fc-ontology/transfer_budget_eur')]\n"
     ]
    }
   ],
   "source": [
    "from sklearn.preprocessing import LabelEncoder\n",
    "import torch\n",
    "from torch_geometric.data import HeteroData\n",
    "\n",
    "# Initialize a heterogeneous graph\n",
    "data = HeteroData()\n",
    "\n",
    "# Initialize label encoders for string features\n",
    "player_label_encoders = {}\n",
    "club_label_encoders = {}\n",
    "league_label_encoders = {}\n",
    "\n",
    "# Extract player nodes and their features dynamically\n",
    "players = []\n",
    "player_features = []\n",
    "player_feature_names = []\n",
    "\n",
    "for player in g.subjects(RDF.type, BASE.Player):\n",
    "    players.append(player)\n",
    "    features = []\n",
    "    for predicate, obj in g.predicate_objects(subject=player):\n",
    "        if isinstance(obj, Literal):\n",
    "            if predicate not in player_feature_names:\n",
    "                player_feature_names.append(predicate)\n",
    "            if obj.datatype == XSD.integer:\n",
    "                features.append(int(obj))\n",
    "            elif obj.datatype in (XSD.float, XSD.decimal):\n",
    "                features.append(float(obj))\n",
    "            elif obj.datatype == XSD.string:\n",
    "                # Encode string features\n",
    "                if predicate not in player_label_encoders:\n",
    "                    player_label_encoders[predicate] = LabelEncoder()\n",
    "                encoded_value = player_label_encoders[predicate].fit_transform([obj])[0]\n",
    "                features.append(encoded_value)\n",
    "            else:\n",
    "                try:\n",
    "                    features.append(float(obj))\n",
    "                except ValueError:\n",
    "                    features.append(0.0)\n",
    "    player_features.append(features)\n",
    "\n",
    "data[\"player\"].x = torch.tensor(player_features, dtype=torch.float)\n",
    "data[\"player\"].num_nodes = len(players)\n",
    "\n",
    "# Extract club nodes and their features dynamically\n",
    "clubs = []\n",
    "club_features = []\n",
    "club_feature_names = []\n",
    "\n",
    "for club in g.subjects(RDF.type, BASE.Club):\n",
    "    clubs.append(club)\n",
    "    features = []\n",
    "    for predicate, obj in g.predicate_objects(subject=club):\n",
    "        if isinstance(obj, Literal):\n",
    "            if predicate not in club_feature_names:\n",
    "                club_feature_names.append(predicate)\n",
    "            if obj.datatype == XSD.integer:\n",
    "                features.append(int(obj))\n",
    "            elif obj.datatype in (XSD.float, XSD.decimal):\n",
    "                features.append(float(obj))\n",
    "            elif obj.datatype == XSD.string:\n",
    "                # Encode string features\n",
    "                if predicate not in club_label_encoders:\n",
    "                    club_label_encoders[predicate] = LabelEncoder()\n",
    "                encoded_value = club_label_encoders[predicate].fit_transform([obj])[0]\n",
    "                features.append(encoded_value)\n",
    "            else:\n",
    "                try:\n",
    "                    features.append(float(obj))\n",
    "                except ValueError:\n",
    "                    features.append(0.0)\n",
    "    club_features.append(features)\n",
    "\n",
    "data[\"club\"].x = torch.tensor(club_features, dtype=torch.float)\n",
    "data[\"club\"].num_nodes = len(clubs)\n",
    "\n",
    "# Extract league nodes and their features dynamically\n",
    "leagues = []\n",
    "league_features = []\n",
    "league_feature_names = []\n",
    "\n",
    "for league in g.subjects(RDF.type, BASE.League):\n",
    "    leagues.append(league)\n",
    "    features = []\n",
    "    for predicate, obj in g.predicate_objects(subject=league):\n",
    "        if isinstance(obj, Literal):\n",
    "            if predicate not in league_feature_names:\n",
    "                league_feature_names.append(predicate)\n",
    "            if obj.datatype == XSD.integer:\n",
    "                features.append(int(obj))\n",
    "            elif obj.datatype in (XSD.float, XSD.decimal):\n",
    "                features.append(float(obj))\n",
    "            elif obj.datatype == XSD.string:\n",
    "                # Encode string features\n",
    "                if predicate not in league_label_encoders:\n",
    "                    league_label_encoders[predicate] = LabelEncoder()\n",
    "                encoded_value = league_label_encoders[predicate].fit_transform([obj])[0]\n",
    "                features.append(encoded_value)\n",
    "            else:\n",
    "                try:\n",
    "                    features.append(float(obj))\n",
    "                except ValueError:\n",
    "                    features.append(0.0)\n",
    "    league_features.append(features)\n",
    "\n",
    "data[\"league\"].x = torch.tensor(league_features, dtype=torch.float)\n",
    "data[\"league\"].num_nodes = len(leagues)\n",
    "\n",
    "# Optional: Debugging feature names\n",
    "print(\"Extracted Player Features:\", player_feature_names)\n",
    "print(\"Extracted Club Features:\", club_feature_names)\n",
    "print(\"Extracted League Features:\", league_feature_names)\n"
   ]
  },
  {
   "cell_type": "code",
   "execution_count": 37,
   "metadata": {},
   "outputs": [],
   "source": [
    "# Extract edges: Player -> Club\n",
    "player_to_club_edges = []\n",
    "for player in players:\n",
    "    club = g.value(player, BASE.plays_for)\n",
    "    if club in clubs:\n",
    "        player_to_club_edges.append((players.index(player), clubs.index(club)))\n",
    "\n",
    "data[\"player\", \"plays_for\", \"club\"].edge_index = torch.tensor(player_to_club_edges, dtype=torch.long).t()\n",
    "\n",
    "# Extract edges: Player -> League\n",
    "player_to_league_edges = []\n",
    "for player in players:\n",
    "    league = g.value(player, BASE.competes_in)\n",
    "    if league in leagues:\n",
    "        player_to_league_edges.append((players.index(player), leagues.index(league)))\n",
    "\n",
    "data[\"player\", \"competes_in\", \"league\"].edge_index = torch.tensor(player_to_league_edges, dtype=torch.long).t()\n",
    "\n",
    "# Extract edges: Club -> League\n",
    "club_to_league_edges = []\n",
    "for club in clubs:\n",
    "    league = g.value(club, BASE.part_of_league)\n",
    "    if league in leagues:\n",
    "        club_to_league_edges.append((clubs.index(club), leagues.index(league)))\n",
    "\n",
    "data[\"club\", \"part_of\", \"league\"].edge_index = torch.tensor(club_to_league_edges, dtype=torch.long).t()\n"
   ]
  },
  {
   "cell_type": "code",
   "execution_count": 38,
   "metadata": {},
   "outputs": [],
   "source": [
    "player_targets = []\n",
    "for player in players:\n",
    "    potential = int(g.value(player, BASE.potential, default=0))\n",
    "    player_targets.append(potential)\n",
    "\n",
    "data[\"player\"].y = torch.tensor(player_targets, dtype=torch.float)\n"
   ]
  },
  {
   "cell_type": "code",
   "execution_count": 34,
   "metadata": {},
   "outputs": [],
   "source": [
    "player_targets = []\n",
    "for player in players:\n",
    "    potential = int(g.value(player, BASE.potential, default=0))\n",
    "    player_targets.append(potential)\n",
    "\n",
    "data[\"player\"].y = torch.tensor(player_targets, dtype=torch.float)\n"
   ]
  }
 ],
 "metadata": {
  "kernelspec": {
   "display_name": "kg_project",
   "language": "python",
   "name": "python3"
  },
  "language_info": {
   "codemirror_mode": {
    "name": "ipython",
    "version": 3
   },
   "file_extension": ".py",
   "mimetype": "text/x-python",
   "name": "python",
   "nbconvert_exporter": "python",
   "pygments_lexer": "ipython3",
   "version": "3.9.20"
  }
 },
 "nbformat": 4,
 "nbformat_minor": 2
}

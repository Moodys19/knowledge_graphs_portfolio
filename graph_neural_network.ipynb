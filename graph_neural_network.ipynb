{
 "cells": [
  {
   "cell_type": "markdown",
   "metadata": {},
   "source": [
    "# Graph Neural Network"
   ]
  },
  {
   "cell_type": "code",
   "execution_count": 34,
   "metadata": {},
   "outputs": [],
   "source": [
    "import torch\n",
    "from torch_geometric.data import Data\n",
    "from torch_geometric.nn import GCNConv\n",
    "\n",
    "import pandas as pd\n",
    "import numpy as np\n",
    "from rdflib import Graph, Namespace, URIRef, Literal\n",
    "from rdflib.namespace import RDF, RDFS, OWL, XSD\n",
    "\n",
    "import os"
   ]
  },
  {
   "cell_type": "code",
   "execution_count": 35,
   "metadata": {},
   "outputs": [
    {
     "data": {
      "text/plain": [
       "'c:\\\\mahmoud uni\\\\TU\\\\SS2024\\\\KGs\\\\Portfolio'"
      ]
     },
     "execution_count": 35,
     "metadata": {},
     "output_type": "execute_result"
    }
   ],
   "source": [
    "os.getcwd()"
   ]
  },
  {
   "cell_type": "markdown",
   "metadata": {},
   "source": [
    "## Load Knowledge Graph"
   ]
  },
  {
   "cell_type": "code",
   "execution_count": 37,
   "metadata": {},
   "outputs": [
    {
     "data": {
      "text/plain": [
       "<Graph identifier=Nf526e332ff614d198b7471099ca5400e (<class 'rdflib.graph.Graph'>)>"
      ]
     },
     "execution_count": 37,
     "metadata": {},
     "output_type": "execute_result"
    }
   ],
   "source": [
    "# # Load the ontology\n",
    "g = Graph()\n",
    "ontology_file = r\"C:\\mahmoud uni\\TU\\SS2024\\KGs\\Portfolio\\dataset\\EA_FC_knowledge_graph_small.ttl\" \n",
    "g.parse(ontology_file, format=\"ttl\")\n",
    "\n",
    "# g = Graph()\n",
    "# ontology_file = r\"dataset\\EA_FC_knowledge_graph.nt\" \n",
    "# g.parse(ontology_file, format=\"nt\")\n"
   ]
  },
  {
   "cell_type": "code",
   "execution_count": 38,
   "metadata": {},
   "outputs": [],
   "source": [
    "# Other namespaces \n",
    "OWL = Namespace(\"http://www.w3.org/2002/07/owl#\")\n",
    "RDF = Namespace(\"http://www.w3.org/1999/02/22-rdf-syntax-ns#\")\n",
    "RDFS = Namespace(\"http://www.w3.org/2000/01/rdf-schema#\")\n",
    "BASE = Namespace(\"http://www.semanticweb.org/mabsa/ontologies/2024/10/ea-fc-ontology/\")"
   ]
  },
  {
   "cell_type": "code",
   "execution_count": 39,
   "metadata": {},
   "outputs": [
    {
     "name": "stdout",
     "output_type": "stream",
     "text": [
      "Total triples: 3854106\n",
      "Total Players: 73350\n",
      "Total Teams: 2687\n",
      "Total Leagues: 181\n"
     ]
    }
   ],
   "source": [
    "# Count all triples\n",
    "print(f\"Total triples: {len(g)}\")\n",
    "\n",
    "# Check for specific class membership\n",
    "player_count = len(list(g.subjects(RDF.type, BASE.Player)))\n",
    "print(f\"Total Players: {player_count}\")\n",
    "\n",
    "team_count = len(list(g.subjects(RDF.type, BASE.Club)))\n",
    "print(f\"Total Teams: {team_count}\")\n",
    "\n",
    "league_count = len(list(g.subjects(RDF.type, BASE.League)))\n",
    "print(f\"Total Leagues: {league_count}\")"
   ]
  },
  {
   "cell_type": "markdown",
   "metadata": {},
   "source": [
    "## Define Graph Convolutional Neural Network"
   ]
  },
  {
   "cell_type": "code",
   "execution_count": 40,
   "metadata": {},
   "outputs": [
    {
     "name": "stdout",
     "output_type": "stream",
     "text": [
      "Total Entities: 188219\n",
      "Total Relations: 76\n"
     ]
    }
   ],
   "source": [
    "# Step 1: Extract Entities and Relationships\n",
    "entities = set()  # Initialize a set to store all unique entities (nodes).\n",
    "relations = set()  # Initialize a set to store all unique relationships (edges).\n",
    "\n",
    "# Iterate through all triples in the knowledge graph.\n",
    "for s, p, o in g.triples((None, None, None)):\n",
    "    entities.add(str(s))  # Add the subject as an entity.\n",
    "    entities.add(str(o))  # Add the object as an entity.\n",
    "    relations.add(str(p))  # Add the predicate as a relation.\n",
    "\n",
    "# Create a mapping of entities and relations to unique indices.\n",
    "entity_to_index = {entity: idx for idx, entity in enumerate(entities)}\n",
    "relation_to_index = {relation: idx for idx, relation in enumerate(relations)}\n",
    "\n",
    "# Print the total number of entities and relations for debugging.\n",
    "print(f\"Total Entities: {len(entity_to_index)}\")\n",
    "print(f\"Total Relations: {len(relation_to_index)}\")"
   ]
  },
  {
   "cell_type": "code",
   "execution_count": 41,
   "metadata": {},
   "outputs": [
    {
     "name": "stdout",
     "output_type": "stream",
     "text": [
      "Edge Index Shape: torch.Size([2, 3854106])\n",
      "Edge Attributes Shape: torch.Size([3854106])\n"
     ]
    }
   ],
   "source": [
    "# Step 2: Create Edge List\n",
    "edge_index = []  # List to store the source and target node indices for each edge.\n",
    "edge_attr = []  # List to store the relation type for each edge.\n",
    "\n",
    "# Iterate through all triples in the knowledge graph.\n",
    "for s, p, o in g.triples((None, None, None)):\n",
    "    edge_index.append([entity_to_index[str(s)], entity_to_index[str(o)]])  # Map entities to indices and store the edge.\n",
    "    edge_attr.append(relation_to_index[str(p)])  # Map the relation to its index and store it.\n",
    "\n",
    "# Convert edge list to a PyTorch tensor and transpose it to match the format (2, num_edges).\n",
    "edge_index = torch.tensor(edge_index, dtype=torch.long).t().contiguous()\n",
    "# Convert edge attributes to a PyTorch tensor.\n",
    "edge_attr = torch.tensor(edge_attr, dtype=torch.long)\n",
    "\n",
    "# Print the shapes of edge index and edge attributes for verification.\n",
    "print(f\"Edge Index Shape: {edge_index.shape}\")\n",
    "print(f\"Edge Attributes Shape: {edge_attr.shape}\")"
   ]
  },
  {
   "cell_type": "code",
   "execution_count": 42,
   "metadata": {},
   "outputs": [
    {
     "name": "stderr",
     "output_type": "stream",
     "text": [
      "WARNING:rdflib.term:Player plays for one Club does not look like a valid URI, trying to serialize this will break.\n",
      "WARNING:rdflib.term:Player plays for one Club does not look like a valid URI, trying to serialize this will break.\n",
      "WARNING:rdflib.term:Player plays for one Club does not look like a valid URI, trying to serialize this will break.\n",
      "WARNING:rdflib.term:Player plays for one Club does not look like a valid URI, trying to serialize this will break.\n",
      "WARNING:rdflib.term:Player plays for one Club does not look like a valid URI, trying to serialize this will break.\n",
      "WARNING:rdflib.term:Players and Clubs compete in exactly 1 league does not look like a valid URI, trying to serialize this will break.\n",
      "WARNING:rdflib.term:Players and Clubs compete in exactly 1 league does not look like a valid URI, trying to serialize this will break.\n",
      "WARNING:rdflib.term:Players and Clubs compete in exactly 1 league does not look like a valid URI, trying to serialize this will break.\n",
      "WARNING:rdflib.term:Players and Clubs compete in exactly 1 league does not look like a valid URI, trying to serialize this will break.\n",
      "WARNING:rdflib.term:Players and Clubs compete in exactly 1 league does not look like a valid URI, trying to serialize this will break.\n"
     ]
    },
    {
     "name": "stdout",
     "output_type": "stream",
     "text": [
      "Node Features Shape: torch.Size([188219, 5])\n"
     ]
    }
   ],
   "source": [
    "# Step 3: Generate Node Features\n",
    "node_features = []  # List to store feature vectors for all nodes.\n",
    "\n",
    "# Iterate through all entities in the graph.\n",
    "for entity in entities:\n",
    "    if \"Player\" in entity:  # Check if the entity is a player.\n",
    "        # Extract player-specific features from the knowledge graph.\n",
    "        features = [\n",
    "            g.value(URIRef(entity), BASE.age, default=0),  # Player's age.\n",
    "            g.value(URIRef(entity), BASE.pace, default=0),  # Player's pace rating.\n",
    "            g.value(URIRef(entity), BASE.dribbling, default=0),  # Player's dribbling rating.\n",
    "            g.value(URIRef(entity), BASE.shooting, default=0),  # Player's shooting rating.\n",
    "            g.value(URIRef(entity), BASE.physic, default=0)  # Player's physical rating.\n",
    "        ]\n",
    "        # Append the features as a list of floats.\n",
    "        node_features.append([float(f) for f in features])\n",
    "    else:\n",
    "        # For non-player entities, append placeholder features (all zeros).\n",
    "        node_features.append([0.0] * 5)\n",
    "\n",
    "# Convert node features to a PyTorch tensor.\n",
    "node_features = torch.tensor(node_features, dtype=torch.float)\n",
    "# Print the shape of the node feature matrix for verification.\n",
    "print(f\"Node Features Shape: {node_features.shape}\")\n"
   ]
  },
  {
   "cell_type": "code",
   "execution_count": 43,
   "metadata": {},
   "outputs": [
    {
     "name": "stderr",
     "output_type": "stream",
     "text": [
      "WARNING:rdflib.term:Player plays for one Club does not look like a valid URI, trying to serialize this will break.\n",
      "WARNING:rdflib.term:Players and Clubs compete in exactly 1 league does not look like a valid URI, trying to serialize this will break.\n"
     ]
    },
    {
     "name": "stdout",
     "output_type": "stream",
     "text": [
      "Labels Shape: torch.Size([188219])\n"
     ]
    }
   ],
   "source": [
    "# Step 4: Generate Labels\n",
    "labels = []  # List to store labels for all nodes.\n",
    "\n",
    "# Iterate through all entities in the graph.\n",
    "for entity in entities:\n",
    "    if \"Player\" in entity:  # Check if the entity is a player.\n",
    "        potential = g.value(URIRef(entity), BASE.potential, default=0)  # Extract the player's potential rating.\n",
    "        labels.append(float(potential))  # Append the potential rating as a float.\n",
    "    else:\n",
    "        labels.append(-1.0)  # Assign a default label (-1) to non-player entities.\n",
    "\n",
    "# Convert labels to a PyTorch tensor.\n",
    "labels = torch.tensor(labels, dtype=torch.float)\n",
    "# Print the shape of the label tensor for verification.\n",
    "print(f\"Labels Shape: {labels.shape}\")\n"
   ]
  },
  {
   "cell_type": "code",
   "execution_count": 44,
   "metadata": {},
   "outputs": [
    {
     "name": "stdout",
     "output_type": "stream",
     "text": [
      "Data(x=[188219, 5], edge_index=[2, 3854106], edge_attr=[3854106], y=[188219])\n"
     ]
    }
   ],
   "source": [
    "# Step 5: Combine into a PyTorch Geometric Data Object\n",
    "\n",
    "# Create a PyTorch Geometric Data object with nodes, edges, and labels.\n",
    "data = Data(\n",
    "    x=node_features,       # Node features matrix.\n",
    "    edge_index=edge_index,  # Edge list (source and target node indices).\n",
    "    edge_attr=edge_attr,   # Edge attributes (relation types).\n",
    "    y=labels               # Labels for nodes.\n",
    ")\n",
    "\n",
    "# Print the Data object to inspect its components.\n",
    "print(data)\n"
   ]
  },
  {
   "cell_type": "markdown",
   "metadata": {},
   "source": [
    "### P2"
   ]
  },
  {
   "cell_type": "code",
   "execution_count": 45,
   "metadata": {},
   "outputs": [],
   "source": [
    "import torch\n",
    "from torch_geometric.nn import GCNConv\n",
    "from torch.nn import Linear\n",
    "import torch.nn.functional as F\n",
    "from sklearn.model_selection import train_test_split\n",
    "\n",
    "# Define the GNN Model\n",
    "class GNNModel(torch.nn.Module):\n",
    "    def __init__(self, input_dim, hidden_dim, output_dim):\n",
    "        super(GNNModel, self).__init__()\n",
    "        self.conv1 = GCNConv(input_dim, hidden_dim)  # First GCN layer\n",
    "        self.conv2 = GCNConv(hidden_dim, hidden_dim)  # Second GCN layer\n",
    "        self.fc = Linear(hidden_dim, output_dim)  # Fully connected layer for regression\n",
    "\n",
    "    def forward(self, x, edge_index):\n",
    "        # Graph Convolution Layers\n",
    "        x = self.conv1(x, edge_index)  # First graph convolution\n",
    "        x = F.relu(x)  # Activation function\n",
    "        x = self.conv2(x, edge_index)  # Second graph convolution\n",
    "        x = F.relu(x)  # Activation function\n",
    "        \n",
    "        # Fully connected layer for regression output\n",
    "        x = self.fc(x)\n",
    "        return x\n"
   ]
  },
  {
   "cell_type": "code",
   "execution_count": 48,
   "metadata": {},
   "outputs": [],
   "source": [
    "\n",
    "# Define Hyperparameters\n",
    "input_dim = data.x.shape[1]  # Number of features per node\n",
    "hidden_dim = 64  # Number of hidden units in GCN layers\n",
    "output_dim = 1  # Single output for regression (player potential)\n",
    "\n",
    "# Initialize Model\n",
    "model = GNNModel(input_dim, hidden_dim, output_dim)\n",
    "\n",
    "\n",
    "# Split Data into Train/Test\n",
    "train_mask, test_mask = train_test_split(\n",
    "    torch.arange(data.num_nodes),\n",
    "    test_size=0.2,\n",
    "    random_state=42\n",
    ")  # Randomly split nodes into training and testing sets\n",
    "\n",
    "\n",
    "# Define Optimizer and Loss Function\n",
    "optimizer = torch.optim.Adam(model.parameters(), lr=0.01)  # Adam optimizer\n",
    "criterion = torch.nn.MSELoss()  # Mean Squared Error loss for regression\n"
   ]
  },
  {
   "cell_type": "code",
   "execution_count": 49,
   "metadata": {},
   "outputs": [],
   "source": [
    "# Move data and model to GPU if available\n",
    "#device = torch.device('cuda' if torch.cuda.is_available() else 'cpu')\n",
    "device = 'cpu'\n",
    "model = model.to(device)\n",
    "data = data.to(device)\n"
   ]
  },
  {
   "cell_type": "code",
   "execution_count": 50,
   "metadata": {},
   "outputs": [
    {
     "name": "stderr",
     "output_type": "stream",
     "text": [
      "c:\\Users\\mabsa\\anaconda3\\envs\\kg_project\\lib\\site-packages\\torch\\nn\\modules\\loss.py:608: UserWarning: Using a target size (torch.Size([150575])) that is different to the input size (torch.Size([150575, 1])). This will likely lead to incorrect results due to broadcasting. Please ensure they have the same size.\n",
      "  return F.mse_loss(input, target, reduction=self.reduction)\n"
     ]
    },
    {
     "ename": "RuntimeError",
     "evalue": "[enforce fail at alloc_cpu.cpp:114] data. DefaultCPUAllocator: not enough memory: you tried to allocate 90691322500 bytes.",
     "output_type": "error",
     "traceback": [
      "\u001b[1;31m---------------------------------------------------------------------------\u001b[0m",
      "\u001b[1;31mRuntimeError\u001b[0m                              Traceback (most recent call last)",
      "Cell \u001b[1;32mIn[50], line 10\u001b[0m\n\u001b[0;32m      7\u001b[0m out \u001b[38;5;241m=\u001b[39m model(data\u001b[38;5;241m.\u001b[39mx, data\u001b[38;5;241m.\u001b[39medge_index)\n\u001b[0;32m      9\u001b[0m \u001b[38;5;66;03m# Compute loss (only for training nodes)\u001b[39;00m\n\u001b[1;32m---> 10\u001b[0m loss \u001b[38;5;241m=\u001b[39m \u001b[43mcriterion\u001b[49m\u001b[43m(\u001b[49m\u001b[43mout\u001b[49m\u001b[43m[\u001b[49m\u001b[43mtrain_mask\u001b[49m\u001b[43m]\u001b[49m\u001b[43m,\u001b[49m\u001b[43m \u001b[49m\u001b[43mdata\u001b[49m\u001b[38;5;241;43m.\u001b[39;49m\u001b[43my\u001b[49m\u001b[43m[\u001b[49m\u001b[43mtrain_mask\u001b[49m\u001b[43m]\u001b[49m\u001b[43m)\u001b[49m\n\u001b[0;32m     12\u001b[0m \u001b[38;5;66;03m# Backward pass\u001b[39;00m\n\u001b[0;32m     13\u001b[0m loss\u001b[38;5;241m.\u001b[39mbackward()\n",
      "File \u001b[1;32mc:\\Users\\mabsa\\anaconda3\\envs\\kg_project\\lib\\site-packages\\torch\\nn\\modules\\module.py:1736\u001b[0m, in \u001b[0;36mModule._wrapped_call_impl\u001b[1;34m(self, *args, **kwargs)\u001b[0m\n\u001b[0;32m   1734\u001b[0m     \u001b[38;5;28;01mreturn\u001b[39;00m \u001b[38;5;28mself\u001b[39m\u001b[38;5;241m.\u001b[39m_compiled_call_impl(\u001b[38;5;241m*\u001b[39margs, \u001b[38;5;241m*\u001b[39m\u001b[38;5;241m*\u001b[39mkwargs)  \u001b[38;5;66;03m# type: ignore[misc]\u001b[39;00m\n\u001b[0;32m   1735\u001b[0m \u001b[38;5;28;01melse\u001b[39;00m:\n\u001b[1;32m-> 1736\u001b[0m     \u001b[38;5;28;01mreturn\u001b[39;00m \u001b[38;5;28mself\u001b[39m\u001b[38;5;241m.\u001b[39m_call_impl(\u001b[38;5;241m*\u001b[39margs, \u001b[38;5;241m*\u001b[39m\u001b[38;5;241m*\u001b[39mkwargs)\n",
      "File \u001b[1;32mc:\\Users\\mabsa\\anaconda3\\envs\\kg_project\\lib\\site-packages\\torch\\nn\\modules\\module.py:1747\u001b[0m, in \u001b[0;36mModule._call_impl\u001b[1;34m(self, *args, **kwargs)\u001b[0m\n\u001b[0;32m   1742\u001b[0m \u001b[38;5;66;03m# If we don't have any hooks, we want to skip the rest of the logic in\u001b[39;00m\n\u001b[0;32m   1743\u001b[0m \u001b[38;5;66;03m# this function, and just call forward.\u001b[39;00m\n\u001b[0;32m   1744\u001b[0m \u001b[38;5;28;01mif\u001b[39;00m \u001b[38;5;129;01mnot\u001b[39;00m (\u001b[38;5;28mself\u001b[39m\u001b[38;5;241m.\u001b[39m_backward_hooks \u001b[38;5;129;01mor\u001b[39;00m \u001b[38;5;28mself\u001b[39m\u001b[38;5;241m.\u001b[39m_backward_pre_hooks \u001b[38;5;129;01mor\u001b[39;00m \u001b[38;5;28mself\u001b[39m\u001b[38;5;241m.\u001b[39m_forward_hooks \u001b[38;5;129;01mor\u001b[39;00m \u001b[38;5;28mself\u001b[39m\u001b[38;5;241m.\u001b[39m_forward_pre_hooks\n\u001b[0;32m   1745\u001b[0m         \u001b[38;5;129;01mor\u001b[39;00m _global_backward_pre_hooks \u001b[38;5;129;01mor\u001b[39;00m _global_backward_hooks\n\u001b[0;32m   1746\u001b[0m         \u001b[38;5;129;01mor\u001b[39;00m _global_forward_hooks \u001b[38;5;129;01mor\u001b[39;00m _global_forward_pre_hooks):\n\u001b[1;32m-> 1747\u001b[0m     \u001b[38;5;28;01mreturn\u001b[39;00m forward_call(\u001b[38;5;241m*\u001b[39margs, \u001b[38;5;241m*\u001b[39m\u001b[38;5;241m*\u001b[39mkwargs)\n\u001b[0;32m   1749\u001b[0m result \u001b[38;5;241m=\u001b[39m \u001b[38;5;28;01mNone\u001b[39;00m\n\u001b[0;32m   1750\u001b[0m called_always_called_hooks \u001b[38;5;241m=\u001b[39m \u001b[38;5;28mset\u001b[39m()\n",
      "File \u001b[1;32mc:\\Users\\mabsa\\anaconda3\\envs\\kg_project\\lib\\site-packages\\torch\\nn\\modules\\loss.py:608\u001b[0m, in \u001b[0;36mMSELoss.forward\u001b[1;34m(self, input, target)\u001b[0m\n\u001b[0;32m    607\u001b[0m \u001b[38;5;28;01mdef\u001b[39;00m \u001b[38;5;21mforward\u001b[39m(\u001b[38;5;28mself\u001b[39m, \u001b[38;5;28minput\u001b[39m: Tensor, target: Tensor) \u001b[38;5;241m-\u001b[39m\u001b[38;5;241m>\u001b[39m Tensor:\n\u001b[1;32m--> 608\u001b[0m     \u001b[38;5;28;01mreturn\u001b[39;00m \u001b[43mF\u001b[49m\u001b[38;5;241;43m.\u001b[39;49m\u001b[43mmse_loss\u001b[49m\u001b[43m(\u001b[49m\u001b[38;5;28;43minput\u001b[39;49m\u001b[43m,\u001b[49m\u001b[43m \u001b[49m\u001b[43mtarget\u001b[49m\u001b[43m,\u001b[49m\u001b[43m \u001b[49m\u001b[43mreduction\u001b[49m\u001b[38;5;241;43m=\u001b[39;49m\u001b[38;5;28;43mself\u001b[39;49m\u001b[38;5;241;43m.\u001b[39;49m\u001b[43mreduction\u001b[49m\u001b[43m)\u001b[49m\n",
      "File \u001b[1;32mc:\\Users\\mabsa\\anaconda3\\envs\\kg_project\\lib\\site-packages\\torch\\nn\\functional.py:3792\u001b[0m, in \u001b[0;36mmse_loss\u001b[1;34m(input, target, size_average, reduce, reduction)\u001b[0m\n\u001b[0;32m   3789\u001b[0m     reduction \u001b[38;5;241m=\u001b[39m _Reduction\u001b[38;5;241m.\u001b[39mlegacy_get_string(size_average, reduce)\n\u001b[0;32m   3791\u001b[0m expanded_input, expanded_target \u001b[38;5;241m=\u001b[39m torch\u001b[38;5;241m.\u001b[39mbroadcast_tensors(\u001b[38;5;28minput\u001b[39m, target)\n\u001b[1;32m-> 3792\u001b[0m \u001b[38;5;28;01mreturn\u001b[39;00m \u001b[43mtorch\u001b[49m\u001b[38;5;241;43m.\u001b[39;49m\u001b[43m_C\u001b[49m\u001b[38;5;241;43m.\u001b[39;49m\u001b[43m_nn\u001b[49m\u001b[38;5;241;43m.\u001b[39;49m\u001b[43mmse_loss\u001b[49m\u001b[43m(\u001b[49m\n\u001b[0;32m   3793\u001b[0m \u001b[43m    \u001b[49m\u001b[43mexpanded_input\u001b[49m\u001b[43m,\u001b[49m\u001b[43m \u001b[49m\u001b[43mexpanded_target\u001b[49m\u001b[43m,\u001b[49m\u001b[43m \u001b[49m\u001b[43m_Reduction\u001b[49m\u001b[38;5;241;43m.\u001b[39;49m\u001b[43mget_enum\u001b[49m\u001b[43m(\u001b[49m\u001b[43mreduction\u001b[49m\u001b[43m)\u001b[49m\n\u001b[0;32m   3794\u001b[0m \u001b[43m\u001b[49m\u001b[43m)\u001b[49m\n",
      "\u001b[1;31mRuntimeError\u001b[0m: [enforce fail at alloc_cpu.cpp:114] data. DefaultCPUAllocator: not enough memory: you tried to allocate 90691322500 bytes."
     ]
    }
   ],
   "source": [
    "# Training Loop\n",
    "for epoch in range(100):  # Train for 100 epochs\n",
    "    model.train()  # Set the model to training mode\n",
    "    optimizer.zero_grad()  # Zero the gradients from the last step\n",
    "    \n",
    "    # Forward pass\n",
    "    out = model(data.x, data.edge_index)\n",
    "    \n",
    "    # Compute loss (only for training nodes)\n",
    "    loss = criterion(out[train_mask], data.y[train_mask])\n",
    "    \n",
    "    # Backward pass\n",
    "    loss.backward()\n",
    "    optimizer.step()\n",
    "    \n",
    "    # Print progress\n",
    "    print(f\"Epoch {epoch + 1}, Loss: {loss.item()}\")\n",
    "\n",
    "    \n",
    "# Evaluation\n",
    "model.eval()  # Set the model to evaluation mode\n",
    "with torch.no_grad():\n",
    "    # Forward pass for test nodes\n",
    "    predictions = model(data.x, data.edge_index)[test_mask]\n",
    "    true_values = data.y[test_mask]\n",
    "    \n",
    "    # Compute Mean Squared Error on test nodes\n",
    "    mse = criterion(predictions, true_values).item()\n",
    "    print(f\"Test MSE: {mse}\")\n"
   ]
  },
  {
   "cell_type": "code",
   "execution_count": null,
   "metadata": {},
   "outputs": [
    {
     "ename": "ImportError",
     "evalue": "'NeighborSampler' requires either 'pyg-lib' or 'torch-sparse'",
     "output_type": "error",
     "traceback": [
      "\u001b[1;31m---------------------------------------------------------------------------\u001b[0m",
      "\u001b[1;31mImportError\u001b[0m                               Traceback (most recent call last)",
      "Cell \u001b[1;32mIn[32], line 76\u001b[0m\n\u001b[0;32m     66\u001b[0m train_loader \u001b[38;5;241m=\u001b[39m NeighborLoader(\n\u001b[0;32m     67\u001b[0m     data, \n\u001b[0;32m     68\u001b[0m     num_neighbors\u001b[38;5;241m=\u001b[39m[\u001b[38;5;241m10\u001b[39m, \u001b[38;5;241m10\u001b[39m], \n\u001b[1;32m   (...)\u001b[0m\n\u001b[0;32m     71\u001b[0m     shuffle\u001b[38;5;241m=\u001b[39m\u001b[38;5;28;01mTrue\u001b[39;00m,\n\u001b[0;32m     72\u001b[0m )\n\u001b[0;32m     75\u001b[0m \u001b[38;5;66;03m# Train the model\u001b[39;00m\n\u001b[1;32m---> 76\u001b[0m \u001b[43mtrain_model\u001b[49m\u001b[43m(\u001b[49m\u001b[43mmodel\u001b[49m\u001b[43m,\u001b[49m\u001b[43m \u001b[49m\u001b[43mdata\u001b[49m\u001b[43m,\u001b[49m\u001b[43m \u001b[49m\u001b[43mtrain_loader\u001b[49m\u001b[43m,\u001b[49m\u001b[43m \u001b[49m\u001b[43moptimizer\u001b[49m\u001b[43m,\u001b[49m\u001b[43m \u001b[49m\u001b[43mcriterion\u001b[49m\u001b[43m,\u001b[49m\u001b[43m \u001b[49m\u001b[43mepochs\u001b[49m\u001b[38;5;241;43m=\u001b[39;49m\u001b[38;5;241;43m20\u001b[39;49m\u001b[43m)\u001b[49m\n",
      "Cell \u001b[1;32mIn[32], line 27\u001b[0m, in \u001b[0;36mtrain_model\u001b[1;34m(model, data, train_loader, optimizer, criterion, epochs)\u001b[0m\n\u001b[0;32m     25\u001b[0m \u001b[38;5;28;01mfor\u001b[39;00m epoch \u001b[38;5;129;01min\u001b[39;00m \u001b[38;5;28mrange\u001b[39m(epochs):\n\u001b[0;32m     26\u001b[0m     total_loss \u001b[38;5;241m=\u001b[39m \u001b[38;5;241m0\u001b[39m\n\u001b[1;32m---> 27\u001b[0m     \u001b[38;5;28;01mfor\u001b[39;00m batch \u001b[38;5;129;01min\u001b[39;00m train_loader:\n\u001b[0;32m     28\u001b[0m         \u001b[38;5;66;03m# Move data to the correct device\u001b[39;00m\n\u001b[0;32m     29\u001b[0m         batch \u001b[38;5;241m=\u001b[39m batch\u001b[38;5;241m.\u001b[39mto(device)\n\u001b[0;32m     30\u001b[0m         optimizer\u001b[38;5;241m.\u001b[39mzero_grad()  \u001b[38;5;66;03m# Clear gradients\u001b[39;00m\n",
      "File \u001b[1;32mc:\\Users\\mabsa\\anaconda3\\envs\\kg_project\\lib\\site-packages\\torch\\utils\\data\\dataloader.py:701\u001b[0m, in \u001b[0;36m_BaseDataLoaderIter.__next__\u001b[1;34m(self)\u001b[0m\n\u001b[0;32m    698\u001b[0m \u001b[38;5;28;01mif\u001b[39;00m \u001b[38;5;28mself\u001b[39m\u001b[38;5;241m.\u001b[39m_sampler_iter \u001b[38;5;129;01mis\u001b[39;00m \u001b[38;5;28;01mNone\u001b[39;00m:\n\u001b[0;32m    699\u001b[0m     \u001b[38;5;66;03m# TODO(https://github.com/pytorch/pytorch/issues/76750)\u001b[39;00m\n\u001b[0;32m    700\u001b[0m     \u001b[38;5;28mself\u001b[39m\u001b[38;5;241m.\u001b[39m_reset()  \u001b[38;5;66;03m# type: ignore[call-arg]\u001b[39;00m\n\u001b[1;32m--> 701\u001b[0m data \u001b[38;5;241m=\u001b[39m \u001b[38;5;28;43mself\u001b[39;49m\u001b[38;5;241;43m.\u001b[39;49m\u001b[43m_next_data\u001b[49m\u001b[43m(\u001b[49m\u001b[43m)\u001b[49m\n\u001b[0;32m    702\u001b[0m \u001b[38;5;28mself\u001b[39m\u001b[38;5;241m.\u001b[39m_num_yielded \u001b[38;5;241m+\u001b[39m\u001b[38;5;241m=\u001b[39m \u001b[38;5;241m1\u001b[39m\n\u001b[0;32m    703\u001b[0m \u001b[38;5;28;01mif\u001b[39;00m (\n\u001b[0;32m    704\u001b[0m     \u001b[38;5;28mself\u001b[39m\u001b[38;5;241m.\u001b[39m_dataset_kind \u001b[38;5;241m==\u001b[39m _DatasetKind\u001b[38;5;241m.\u001b[39mIterable\n\u001b[0;32m    705\u001b[0m     \u001b[38;5;129;01mand\u001b[39;00m \u001b[38;5;28mself\u001b[39m\u001b[38;5;241m.\u001b[39m_IterableDataset_len_called \u001b[38;5;129;01mis\u001b[39;00m \u001b[38;5;129;01mnot\u001b[39;00m \u001b[38;5;28;01mNone\u001b[39;00m\n\u001b[0;32m    706\u001b[0m     \u001b[38;5;129;01mand\u001b[39;00m \u001b[38;5;28mself\u001b[39m\u001b[38;5;241m.\u001b[39m_num_yielded \u001b[38;5;241m>\u001b[39m \u001b[38;5;28mself\u001b[39m\u001b[38;5;241m.\u001b[39m_IterableDataset_len_called\n\u001b[0;32m    707\u001b[0m ):\n",
      "File \u001b[1;32mc:\\Users\\mabsa\\anaconda3\\envs\\kg_project\\lib\\site-packages\\torch\\utils\\data\\dataloader.py:757\u001b[0m, in \u001b[0;36m_SingleProcessDataLoaderIter._next_data\u001b[1;34m(self)\u001b[0m\n\u001b[0;32m    755\u001b[0m \u001b[38;5;28;01mdef\u001b[39;00m \u001b[38;5;21m_next_data\u001b[39m(\u001b[38;5;28mself\u001b[39m):\n\u001b[0;32m    756\u001b[0m     index \u001b[38;5;241m=\u001b[39m \u001b[38;5;28mself\u001b[39m\u001b[38;5;241m.\u001b[39m_next_index()  \u001b[38;5;66;03m# may raise StopIteration\u001b[39;00m\n\u001b[1;32m--> 757\u001b[0m     data \u001b[38;5;241m=\u001b[39m \u001b[38;5;28;43mself\u001b[39;49m\u001b[38;5;241;43m.\u001b[39;49m\u001b[43m_dataset_fetcher\u001b[49m\u001b[38;5;241;43m.\u001b[39;49m\u001b[43mfetch\u001b[49m\u001b[43m(\u001b[49m\u001b[43mindex\u001b[49m\u001b[43m)\u001b[49m  \u001b[38;5;66;03m# may raise StopIteration\u001b[39;00m\n\u001b[0;32m    758\u001b[0m     \u001b[38;5;28;01mif\u001b[39;00m \u001b[38;5;28mself\u001b[39m\u001b[38;5;241m.\u001b[39m_pin_memory:\n\u001b[0;32m    759\u001b[0m         data \u001b[38;5;241m=\u001b[39m _utils\u001b[38;5;241m.\u001b[39mpin_memory\u001b[38;5;241m.\u001b[39mpin_memory(data, \u001b[38;5;28mself\u001b[39m\u001b[38;5;241m.\u001b[39m_pin_memory_device)\n",
      "File \u001b[1;32mc:\\Users\\mabsa\\anaconda3\\envs\\kg_project\\lib\\site-packages\\torch\\utils\\data\\_utils\\fetch.py:55\u001b[0m, in \u001b[0;36m_MapDatasetFetcher.fetch\u001b[1;34m(self, possibly_batched_index)\u001b[0m\n\u001b[0;32m     53\u001b[0m \u001b[38;5;28;01melse\u001b[39;00m:\n\u001b[0;32m     54\u001b[0m     data \u001b[38;5;241m=\u001b[39m \u001b[38;5;28mself\u001b[39m\u001b[38;5;241m.\u001b[39mdataset[possibly_batched_index]\n\u001b[1;32m---> 55\u001b[0m \u001b[38;5;28;01mreturn\u001b[39;00m \u001b[38;5;28;43mself\u001b[39;49m\u001b[38;5;241;43m.\u001b[39;49m\u001b[43mcollate_fn\u001b[49m\u001b[43m(\u001b[49m\u001b[43mdata\u001b[49m\u001b[43m)\u001b[49m\n",
      "File \u001b[1;32mc:\\Users\\mabsa\\anaconda3\\envs\\kg_project\\lib\\site-packages\\torch_geometric\\loader\\node_loader.py:147\u001b[0m, in \u001b[0;36mNodeLoader.collate_fn\u001b[1;34m(self, index)\u001b[0m\n\u001b[0;32m    144\u001b[0m \u001b[38;5;250m\u001b[39m\u001b[38;5;124mr\u001b[39m\u001b[38;5;124;03m\"\"\"Samples a subgraph from a batch of input nodes.\"\"\"\u001b[39;00m\n\u001b[0;32m    145\u001b[0m input_data: NodeSamplerInput \u001b[38;5;241m=\u001b[39m \u001b[38;5;28mself\u001b[39m\u001b[38;5;241m.\u001b[39minput_data[index]\n\u001b[1;32m--> 147\u001b[0m out \u001b[38;5;241m=\u001b[39m \u001b[38;5;28;43mself\u001b[39;49m\u001b[38;5;241;43m.\u001b[39;49m\u001b[43mnode_sampler\u001b[49m\u001b[38;5;241;43m.\u001b[39;49m\u001b[43msample_from_nodes\u001b[49m\u001b[43m(\u001b[49m\u001b[43minput_data\u001b[49m\u001b[43m)\u001b[49m\n\u001b[0;32m    149\u001b[0m \u001b[38;5;28;01mif\u001b[39;00m \u001b[38;5;28mself\u001b[39m\u001b[38;5;241m.\u001b[39mfilter_per_worker:  \u001b[38;5;66;03m# Execute `filter_fn` in the worker process\u001b[39;00m\n\u001b[0;32m    150\u001b[0m     out \u001b[38;5;241m=\u001b[39m \u001b[38;5;28mself\u001b[39m\u001b[38;5;241m.\u001b[39mfilter_fn(out)\n",
      "File \u001b[1;32mc:\\Users\\mabsa\\anaconda3\\envs\\kg_project\\lib\\site-packages\\torch_geometric\\sampler\\neighbor_sampler.py:322\u001b[0m, in \u001b[0;36mNeighborSampler.sample_from_nodes\u001b[1;34m(self, inputs)\u001b[0m\n\u001b[0;32m    318\u001b[0m \u001b[38;5;28;01mdef\u001b[39;00m \u001b[38;5;21msample_from_nodes\u001b[39m(\n\u001b[0;32m    319\u001b[0m     \u001b[38;5;28mself\u001b[39m,\n\u001b[0;32m    320\u001b[0m     inputs: NodeSamplerInput,\n\u001b[0;32m    321\u001b[0m ) \u001b[38;5;241m-\u001b[39m\u001b[38;5;241m>\u001b[39m Union[SamplerOutput, HeteroSamplerOutput]:\n\u001b[1;32m--> 322\u001b[0m     out \u001b[38;5;241m=\u001b[39m \u001b[43mnode_sample\u001b[49m\u001b[43m(\u001b[49m\u001b[43minputs\u001b[49m\u001b[43m,\u001b[49m\u001b[43m \u001b[49m\u001b[38;5;28;43mself\u001b[39;49m\u001b[38;5;241;43m.\u001b[39;49m\u001b[43m_sample\u001b[49m\u001b[43m)\u001b[49m\n\u001b[0;32m    323\u001b[0m     \u001b[38;5;28;01mif\u001b[39;00m \u001b[38;5;28mself\u001b[39m\u001b[38;5;241m.\u001b[39msubgraph_type \u001b[38;5;241m==\u001b[39m SubgraphType\u001b[38;5;241m.\u001b[39mbidirectional:\n\u001b[0;32m    324\u001b[0m         out \u001b[38;5;241m=\u001b[39m out\u001b[38;5;241m.\u001b[39mto_bidirectional()\n",
      "File \u001b[1;32mc:\\Users\\mabsa\\anaconda3\\envs\\kg_project\\lib\\site-packages\\torch_geometric\\sampler\\neighbor_sampler.py:542\u001b[0m, in \u001b[0;36mnode_sample\u001b[1;34m(inputs, sample_fn)\u001b[0m\n\u001b[0;32m    539\u001b[0m     seed \u001b[38;5;241m=\u001b[39m inputs\u001b[38;5;241m.\u001b[39mnode\n\u001b[0;32m    540\u001b[0m     seed_time \u001b[38;5;241m=\u001b[39m inputs\u001b[38;5;241m.\u001b[39mtime\n\u001b[1;32m--> 542\u001b[0m out \u001b[38;5;241m=\u001b[39m \u001b[43msample_fn\u001b[49m\u001b[43m(\u001b[49m\u001b[43mseed\u001b[49m\u001b[43m,\u001b[49m\u001b[43m \u001b[49m\u001b[43mseed_time\u001b[49m\u001b[43m)\u001b[49m\n\u001b[0;32m    543\u001b[0m out\u001b[38;5;241m.\u001b[39mmetadata \u001b[38;5;241m=\u001b[39m (inputs\u001b[38;5;241m.\u001b[39minput_id, inputs\u001b[38;5;241m.\u001b[39mtime)\n\u001b[0;32m    545\u001b[0m \u001b[38;5;28;01mreturn\u001b[39;00m out\n",
      "File \u001b[1;32mc:\\Users\\mabsa\\anaconda3\\envs\\kg_project\\lib\\site-packages\\torch_geometric\\sampler\\neighbor_sampler.py:508\u001b[0m, in \u001b[0;36mNeighborSampler._sample\u001b[1;34m(self, seed, seed_time, **kwargs)\u001b[0m\n\u001b[0;32m    505\u001b[0m     num_sampled_nodes \u001b[38;5;241m=\u001b[39m num_sampled_edges \u001b[38;5;241m=\u001b[39m \u001b[38;5;28;01mNone\u001b[39;00m\n\u001b[0;32m    507\u001b[0m \u001b[38;5;28;01melse\u001b[39;00m:\n\u001b[1;32m--> 508\u001b[0m     \u001b[38;5;28;01mraise\u001b[39;00m \u001b[38;5;167;01mImportError\u001b[39;00m(\u001b[38;5;124mf\u001b[39m\u001b[38;5;124m\"\u001b[39m\u001b[38;5;124m'\u001b[39m\u001b[38;5;132;01m{\u001b[39;00m\u001b[38;5;28mself\u001b[39m\u001b[38;5;241m.\u001b[39m\u001b[38;5;18m__class__\u001b[39m\u001b[38;5;241m.\u001b[39m\u001b[38;5;18m__name__\u001b[39m\u001b[38;5;132;01m}\u001b[39;00m\u001b[38;5;124m'\u001b[39m\u001b[38;5;124m requires \u001b[39m\u001b[38;5;124m\"\u001b[39m\n\u001b[0;32m    509\u001b[0m                       \u001b[38;5;124mf\u001b[39m\u001b[38;5;124m\"\u001b[39m\u001b[38;5;124meither \u001b[39m\u001b[38;5;124m'\u001b[39m\u001b[38;5;124mpyg-lib\u001b[39m\u001b[38;5;124m'\u001b[39m\u001b[38;5;124m or \u001b[39m\u001b[38;5;124m'\u001b[39m\u001b[38;5;124mtorch-sparse\u001b[39m\u001b[38;5;124m'\u001b[39m\u001b[38;5;124m\"\u001b[39m)\n\u001b[0;32m    511\u001b[0m \u001b[38;5;28;01mreturn\u001b[39;00m SamplerOutput(\n\u001b[0;32m    512\u001b[0m     node\u001b[38;5;241m=\u001b[39mnode,\n\u001b[0;32m    513\u001b[0m     row\u001b[38;5;241m=\u001b[39mrow,\n\u001b[1;32m   (...)\u001b[0m\n\u001b[0;32m    518\u001b[0m     num_sampled_edges\u001b[38;5;241m=\u001b[39mnum_sampled_edges,\n\u001b[0;32m    519\u001b[0m )\n",
      "\u001b[1;31mImportError\u001b[0m: 'NeighborSampler' requires either 'pyg-lib' or 'torch-sparse'"
     ]
    }
   ],
   "source": [
    "# from torch_geometric.loader import NeighborLoader\n",
    "\n",
    "# from sklearn.model_selection import train_test_split\n",
    "\n",
    "# # Assuming `data.y` contains the target labels for all nodes\n",
    "# num_nodes = data.num_nodes\n",
    "# indices = np.arange(num_nodes)\n",
    "\n",
    "# train_idx, test_idx = train_test_split(indices, test_size=0.2, random_state=42)\n",
    "# train_idx, val_idx = train_test_split(train_idx, test_size=0.25, random_state=42)  # 0.25 x 0.8 = 0.2\n",
    "\n",
    "# data.train_mask = torch.zeros(num_nodes, dtype=torch.bool)\n",
    "# data.val_mask = torch.zeros(num_nodes, dtype=torch.bool)\n",
    "# data.test_mask = torch.zeros(num_nodes, dtype=torch.bool)\n",
    "\n",
    "# data.train_mask[train_idx] = True\n",
    "# data.val_mask[val_idx] = True\n",
    "# data.test_mask[test_idx] = True\n",
    "\n",
    "\n",
    "\n",
    "# # Training loop\n",
    "# def train_model(model, data, train_loader, optimizer, criterion, epochs=10):\n",
    "#     model.train()  # Set the model to training mode\n",
    "#     for epoch in range(epochs):\n",
    "#         total_loss = 0\n",
    "#         for batch in train_loader:\n",
    "#             # Move data to the correct device\n",
    "#             batch = batch.to(device)\n",
    "#             optimizer.zero_grad()  # Clear gradients\n",
    "            \n",
    "#             # Forward pass\n",
    "#             out = model(batch.x, batch.edge_index)\n",
    "            \n",
    "#             # Compute loss for training nodes\n",
    "#             loss = criterion(out[batch.train_mask], batch.y[batch.train_mask])\n",
    "#             loss.backward()  # Backward pass\n",
    "#             optimizer.step()  # Update weights\n",
    "            \n",
    "#             total_loss += loss.item()  # Accumulate loss\n",
    "\n",
    "#         print(f\"Epoch {epoch + 1}/{epochs}, Loss: {total_loss:.4f}\")\n",
    "\n",
    "# # Define the GNN Model\n",
    "# class GNNModel(torch.nn.Module):\n",
    "#     def __init__(self, in_channels, hidden_channels, out_channels):\n",
    "#         super(GNNModel, self).__init__()\n",
    "#         self.conv1 = GCNConv(in_channels, hidden_channels)\n",
    "#         self.conv2 = GCNConv(hidden_channels, out_channels)\n",
    "#         self.fc = Linear(out_channels, 1)  # For regression (predicting potential)\n",
    "\n",
    "#     def forward(self, x, edge_index):\n",
    "#         x = self.conv1(x, edge_index)\n",
    "#         x = F.relu(x)\n",
    "#         x = self.conv2(x, edge_index)\n",
    "#         return self.fc(x)\n",
    "\n",
    "# # Initialize the model\n",
    "# model = GNNModel(in_channels=5, hidden_channels=32, out_channels=16).to(device)\n",
    "\n",
    "\n",
    "# # Optimizer and loss function\n",
    "# optimizer = torch.optim.Adam(model.parameters(), lr=0.01)\n",
    "# criterion = torch.nn.MSELoss()\n",
    "\n",
    "# train_loader = NeighborLoader(\n",
    "#     data, \n",
    "#     num_neighbors=[10, 10], \n",
    "#     batch_size=1024, \n",
    "#     input_nodes=data.train_mask,\n",
    "#     shuffle=True,\n",
    "# )\n",
    "\n",
    "\n",
    "# # Train the model\n",
    "# train_model(model, data, train_loader, optimizer, criterion, epochs=20)\n"
   ]
  }
 ],
 "metadata": {
  "kernelspec": {
   "display_name": "kg_project",
   "language": "python",
   "name": "python3"
  },
  "language_info": {
   "codemirror_mode": {
    "name": "ipython",
    "version": 3
   },
   "file_extension": ".py",
   "mimetype": "text/x-python",
   "name": "python",
   "nbconvert_exporter": "python",
   "pygments_lexer": "ipython3",
   "version": "3.9.20"
  }
 },
 "nbformat": 4,
 "nbformat_minor": 2
}

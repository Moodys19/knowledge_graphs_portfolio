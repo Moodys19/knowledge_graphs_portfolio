{
 "cells": [
  {
   "cell_type": "markdown",
   "metadata": {},
   "source": [
    "# Knowledge Graph Embeddings"
   ]
  },
  {
   "cell_type": "code",
   "execution_count": 1,
   "metadata": {},
   "outputs": [
    {
     "name": "stderr",
     "output_type": "stream",
     "text": [
      "c:\\Users\\Mocca\\anaconda3\\envs\\kg_project\\lib\\site-packages\\tqdm\\auto.py:21: TqdmWarning: IProgress not found. Please update jupyter and ipywidgets. See https://ipywidgets.readthedocs.io/en/stable/user_install.html\n",
      "  from .autonotebook import tqdm as notebook_tqdm\n"
     ]
    }
   ],
   "source": [
    "from rdflib import Graph, Namespace\n",
    "from rdflib.namespace import RDF\n",
    "import pandas as pd\n",
    "import pykeen\n",
    "from pykeen.pipeline import pipeline\n",
    "from pykeen.triples import TriplesFactory\n",
    "import os\n",
    "import numpy as np\n",
    "import torch\n",
    "from collections import defaultdict\n",
    "from sklearn.model_selection import train_test_split\n"
   ]
  },
  {
   "cell_type": "code",
   "execution_count": 2,
   "metadata": {},
   "outputs": [
    {
     "data": {
      "text/plain": [
       "'c:\\\\mahmoud uni\\\\TU\\\\SS2024\\\\KGs\\\\Portfolio'"
      ]
     },
     "execution_count": 2,
     "metadata": {},
     "output_type": "execute_result"
    }
   ],
   "source": [
    "os.getcwd()"
   ]
  },
  {
   "cell_type": "markdown",
   "metadata": {},
   "source": [
    "## Load Knowledge Graph"
   ]
  },
  {
   "cell_type": "code",
   "execution_count": 3,
   "metadata": {},
   "outputs": [
    {
     "data": {
      "text/plain": [
       "<Graph identifier=Nc79bce033432439c9dc3ade3d9e9338d (<class 'rdflib.graph.Graph'>)>"
      ]
     },
     "execution_count": 3,
     "metadata": {},
     "output_type": "execute_result"
    }
   ],
   "source": [
    "BASE = Namespace(\"http://www.semanticweb.org/mabsa/ontologies/2024/10/ea-fc-ontology/\")\n",
    "g = Graph()\n",
    "ontology_file = r\"dataset\\EA_FC_knowledge_graph.ttl\" \n",
    "g.parse(ontology_file, format=\"ttl\")"
   ]
  },
  {
   "cell_type": "code",
   "execution_count": 4,
   "metadata": {},
   "outputs": [
    {
     "name": "stdout",
     "output_type": "stream",
     "text": [
      "Total Players: 6276\n",
      "Total Clubs: 2041\n",
      "Total Leagues: 169\n"
     ]
    }
   ],
   "source": [
    "# Extract Entities\n",
    "players = set(g.subjects(RDF.type, BASE.Player))\n",
    "clubs = set(g.subjects(RDF.type, BASE.Club))\n",
    "leagues = set(g.subjects(RDF.type, BASE.League))\n",
    "\n",
    "print(f\"Total Players: {len(players)}\")\n",
    "print(f\"Total Clubs: {len(clubs)}\")\n",
    "print(f\"Total Leagues: {len(leagues)}\")"
   ]
  },
  {
   "cell_type": "markdown",
   "metadata": {},
   "source": [
    "# Split Preperation"
   ]
  },
  {
   "cell_type": "code",
   "execution_count": null,
   "metadata": {},
   "outputs": [
    {
     "name": "stdout",
     "output_type": "stream",
     "text": [
      "Total Players in KG: 6276\n",
      "Total Players Extracted: 1569\n"
     ]
    }
   ],
   "source": [
    "# Player extracting unique ID for each player\n",
    "unique_player_ids = set()\n",
    "player_id_to_triples = defaultdict(list)\n",
    "\n",
    "\n",
    "players = list(g.subjects(RDF.type, BASE.Player)) # player nodes\n",
    "\n",
    "# mapping players to unique id\n",
    "player_to_id = {}\n",
    "\n",
    "for player in players:\n",
    "    for pred, obj in g.predicate_objects(player):\n",
    "        if pred == BASE.player_id:\n",
    "            player_id_full = str(obj)  \n",
    "            player_unique_id = player_id_full.split('_')[0] # full ID e.g., '139068_21' -> wird zu 139068\n",
    "            player_to_id[player] = player_unique_id\n",
    "            unique_player_ids.add(player_unique_id)\n",
    "\n",
    "for s, p, o in g:\n",
    "    player_id = None\n",
    "\n",
    "    if s in player_to_id:\n",
    "        player_id = player_to_id[s]\n",
    "\n",
    "    elif o in player_to_id:\n",
    "        player_id = player_to_id[o]\n",
    "\n",
    "    if player_id:\n",
    "        player_id_to_triples[player_id].append((str(s), str(p), str(o)))\n",
    "\n",
    "print(f\"Total Players in KG: {len(players)}\")\n",
    "print(f\"Total Players Extracted: {len(player_id_to_triples)}\")\n"
   ]
  },
  {
   "cell_type": "code",
   "execution_count": null,
   "metadata": {},
   "outputs": [],
   "source": [
    "# Step 4: Shuffle and split unique players\n",
    "unique_player_ids = list(unique_player_ids)\n",
    "np.random.seed(1120) \n",
    "np.random.shuffle(unique_player_ids)\n",
    "\n",
    "# Define split ratios\n",
    "train_ratio, val_ratio = 0.6, 0.2\n",
    "num_players = len(unique_player_ids)\n",
    "\n",
    "train_cutoff = int(train_ratio * num_players)\n",
    "val_cutoff = int((train_ratio + val_ratio) * num_players)\n",
    "\n",
    "# Assign players to train, validation, and test sets\n",
    "train_players = set(unique_player_ids[:train_cutoff])\n",
    "val_players = set(unique_player_ids[train_cutoff:val_cutoff])\n",
    "test_players = set(unique_player_ids[val_cutoff:])\n",
    "\n",
    "# Step 5: Assign triples to respective sets\n",
    "train_triples, val_triples, test_triples = [], [], []\n",
    "\n",
    "for player_id, triples in player_id_to_triples.items():\n",
    "    if player_id in train_players:\n",
    "        train_triples.extend(triples)\n",
    "    elif player_id in val_players:\n",
    "        val_triples.extend(triples)\n",
    "    elif player_id in test_players:\n",
    "        test_triples.extend(triples)\n",
    "\n",
    "# Convert lists to numpy arrays\n",
    "train_array = np.array(train_triples, dtype=str)\n",
    "val_array = np.array(val_triples, dtype=str)\n",
    "test_array = np.array(test_triples, dtype=str)\n",
    "\n",
    "# Step 6: Create PyKEEN TriplesFactory objects\n",
    "training = TriplesFactory.from_labeled_triples(train_array)\n",
    "validation = TriplesFactory.from_labeled_triples(val_array)\n",
    "testing = TriplesFactory.from_labeled_triples(test_array)\n"
   ]
  },
  {
   "cell_type": "code",
   "execution_count": 16,
   "metadata": {},
   "outputs": [
    {
     "name": "stdout",
     "output_type": "stream",
     "text": [
      "TriplesFactory(num_entities=11679, num_relations=54, create_inverse_triples=False, num_triples=203256)\n",
      "TriplesFactory(num_entities=4852, num_relations=54, create_inverse_triples=False, num_triples=67824)\n",
      "TriplesFactory(num_entities=4747, num_relations=54, create_inverse_triples=False, num_triples=67824)\n"
     ]
    }
   ],
   "source": [
    "print(training)\n",
    "print(validation)\n",
    "print(testing)"
   ]
  },
  {
   "cell_type": "markdown",
   "metadata": {},
   "source": [
    "# KG Embeddings"
   ]
  },
  {
   "cell_type": "code",
   "execution_count": 17,
   "metadata": {},
   "outputs": [
    {
     "name": "stdout",
     "output_type": "stream",
     "text": [
      "True\n",
      "1\n"
     ]
    }
   ],
   "source": [
    "print(torch.cuda.is_available()) \n",
    "print(torch.cuda.device_count())  \n",
    "#print(torch.cuda.get_device_name(0))  # Name of the first GPU"
   ]
  },
  {
   "cell_type": "code",
   "execution_count": null,
   "metadata": {},
   "outputs": [
    {
     "name": "stderr",
     "output_type": "stream",
     "text": [
      "Training epochs on cuda:0: 100%|██████████| 5/5 [00:06<00:00,  1.26s/epoch, loss=1.7, prev_loss=2.13] \n",
      "Evaluating on cuda:0: 100%|██████████| 67.8k/67.8k [00:34<00:00, 1.95ktriple/s]\n",
      "INFO:pykeen.evaluation.evaluator:Evaluation took 89.17s seconds\n",
      "INFO:pykeen.triples.triples_factory:Stored TriplesFactory(num_entities=11679, num_relations=54, create_inverse_triples=False, num_triples=203256) to file:///C:/mahmoud%20uni/TU/SS2024/KGs/Portfolio/models/ea_fc_embeddings/training_triples\n",
      "INFO:pykeen.pipeline.api:Saved to directory: C:\\mahmoud uni\\TU\\SS2024\\KGs\\Portfolio\\models\\ea_fc_embeddings\n"
     ]
    }
   ],
   "source": [
    "result = pykeen.pipeline.pipeline(\n",
    "    model=\"TransE\",\n",
    "    loss=\"softplus\",\n",
    "    \n",
    "    training=training,\n",
    "    testing=testing,\n",
    "    validation=validation,\n",
    "\n",
    "    training_kwargs=dict(\n",
    "        num_epochs=2000,  # Maximum possible epochs\n",
    "        batch_size=512,\n",
    "        stopper=\"early\",  # Enable early stopping\n",
    "        stopper_kwargs=dict(frequency=50, patience=10, relative_delta=0.001) \n",
    "    ),\n",
    "    \n",
    "    optimizer=\"Adam\",\n",
    "    random_seed=1120,\n",
    "    device=\"cuda\",\n",
    "    optimizer_kwargs=dict(lr=0.001),\n",
    ")\n"
   ]
  },
  {
   "cell_type": "code",
   "execution_count": null,
   "metadata": {},
   "outputs": [],
   "source": []
  }
 ],
 "metadata": {
  "kernelspec": {
   "display_name": "kg_project",
   "language": "python",
   "name": "python3"
  },
  "language_info": {
   "codemirror_mode": {
    "name": "ipython",
    "version": 3
   },
   "file_extension": ".py",
   "mimetype": "text/x-python",
   "name": "python",
   "nbconvert_exporter": "python",
   "pygments_lexer": "ipython3",
   "version": "3.9.20"
  }
 },
 "nbformat": 4,
 "nbformat_minor": 2
}

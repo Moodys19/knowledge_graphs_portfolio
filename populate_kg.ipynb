{
 "cells": [
  {
   "cell_type": "markdown",
   "metadata": {},
   "source": [
    "# Populate Knowledge Graph"
   ]
  },
  {
   "cell_type": "code",
   "execution_count": 1,
   "metadata": {},
   "outputs": [],
   "source": [
    "import pandas as pd\n",
    "import numpy as np\n",
    "from rdflib import Graph, Namespace, URIRef, Literal\n",
    "from rdflib.namespace import RDF, RDFS, OWL, XSD"
   ]
  },
  {
   "cell_type": "markdown",
   "metadata": {},
   "source": [
    "## Load Data"
   ]
  },
  {
   "cell_type": "code",
   "execution_count": 2,
   "metadata": {},
   "outputs": [],
   "source": [
    "# Full Dataset\n",
    "\n",
    "# player_df = pd.read_parquet( r\"C:\\mahmoud uni\\TU\\SS2024\\KGs\\Portfolio\\dataset\\players_clean.parquet\")\n",
    "# team_df = pd.read_parquet( r\"C:\\mahmoud uni\\TU\\SS2024\\KGs\\Portfolio\\dataset\\teams_clean.parquet\")\n",
    "# league_df = pd.read_parquet( r\"C:\\mahmoud uni\\TU\\SS2024\\KGs\\Portfolio\\dataset\\league_clean.parquet\")"
   ]
  },
  {
   "cell_type": "code",
   "execution_count": 3,
   "metadata": {},
   "outputs": [],
   "source": [
    "# sunsampled data\n",
    "player_df = pd.read_parquet( r\"C:\\mahmoud uni\\TU\\SS2024\\KGs\\Portfolio\\dataset\\players_small.parquet\")\n",
    "team_df = pd.read_parquet( r\"C:\\mahmoud uni\\TU\\SS2024\\KGs\\Portfolio\\dataset\\teams_small.parquet\")\n",
    "league_df = pd.read_parquet( r\"C:\\mahmoud uni\\TU\\SS2024\\KGs\\Portfolio\\dataset\\league_small.parquet\")"
   ]
  },
  {
   "cell_type": "code",
   "execution_count": 4,
   "metadata": {},
   "outputs": [],
   "source": [
    "# Load ontology\n",
    "g = Graph()\n",
    "ontology_file = \"C:\\mahmoud uni\\TU\\SS2024\\KGs\\Portfolio\\EA_FC_ontology.ttl\"\n",
    "g.parse(ontology_file, format=\"ttl\")\n",
    "\n",
    "# namespaces\n",
    "BASE = Namespace(\"http://www.semanticweb.org/mabsa/ontologies/2024/10/ea-fc-ontology/\")\n",
    "g.bind(\"base\", BASE)\n",
    "OWL = Namespace(\"http://www.w3.org/2002/07/owl#\")\n",
    "RDF = Namespace(\"http://www.w3.org/1999/02/22-rdf-syntax-ns#\")\n",
    "RDFS = Namespace(\"http://www.w3.org/2000/01/rdf-schema#\")"
   ]
  },
  {
   "cell_type": "markdown",
   "metadata": {},
   "source": [
    "## Populate the Knowledge Graph"
   ]
  },
  {
   "cell_type": "code",
   "execution_count": 5,
   "metadata": {},
   "outputs": [],
   "source": [
    "#player_df.info()"
   ]
  },
  {
   "cell_type": "code",
   "execution_count": 6,
   "metadata": {},
   "outputs": [
    {
     "name": "stdout",
     "output_type": "stream",
     "text": [
      "8672/8672"
     ]
    }
   ],
   "source": [
    "# Players\n",
    "count = 0\n",
    "\n",
    "for _, row in player_df.iterrows():\n",
    "    # URIs for Player and Club\n",
    "    player_uri = BASE[f\"Player_{row['key']}\"]\n",
    "    club_uri = BASE[f\"Club_{row['team_key']}\"]\n",
    "    league_uri = BASE[f\"League_{row['league_key']}\"]\n",
    "    \n",
    "    g.add((player_uri, RDF.type, BASE.Player))\n",
    "    \n",
    "    # Data properties\n",
    "    g.add((player_uri, BASE.name, Literal(row['long_name'], datatype=XSD.string)))\n",
    "    g.add((player_uri, BASE.age, Literal(row['age'], datatype=XSD.integer)))\n",
    "    g.add((player_uri, BASE.club_contract_valid_until_year, Literal(row['club_contract_valid_until_year'], datatype=XSD.integer)))\n",
    "    g.add((player_uri, BASE.club_joined_date, Literal(row['club_joined_date'], datatype=XSD.date)))\n",
    "    g.add((player_uri, BASE.club_position, Literal(row['club_position'], datatype=XSD.integer)))\n",
    "    g.add((player_uri, BASE.defending, Literal(row['defending'], datatype=XSD.integer)))\n",
    "    g.add((player_uri, BASE.dribbling, Literal(row['dribbling'], datatype=XSD.integer)))\n",
    "    g.add((player_uri, BASE.fifa_version, Literal(row['fifa_version'], datatype=XSD.integer)))    \n",
    "    g.add((player_uri, BASE.height_cm, Literal(row['height_cm'], datatype=XSD.float)))\n",
    "    g.add((player_uri, BASE.on_loan, Literal(row['on_loan'], datatype=XSD.boolean)))\n",
    "    g.add((player_uri, BASE.overall, Literal(row['overall'], datatype=XSD.integer)))\n",
    "    g.add((player_uri, BASE.pace, Literal(row['pace'], datatype=XSD.integer)))\n",
    "    g.add((player_uri, BASE.passing, Literal(row['passing'], datatype=XSD.integer)))\n",
    "    g.add((player_uri, BASE.physic, Literal(row['physic'], datatype=XSD.integer)))\n",
    "    g.add((player_uri, BASE.player_id, Literal(row['key'], datatype=XSD.string)))\n",
    "    g.add((player_uri, BASE.position_category, Literal(row['position_category'], datatype=XSD.string)))\n",
    "    g.add((player_uri, BASE.potential, Literal(row['potential'], datatype=XSD.integer)))\n",
    "    g.add((player_uri, BASE.shooting, Literal(row['shooting'], datatype=XSD.integer)))\n",
    "    g.add((player_uri, BASE.skill_moves, Literal(row['skill_moves'], datatype=XSD.integer)))\n",
    "    g.add((player_uri, BASE.value_eur, Literal(row['value_eur'], datatype=XSD.float)))\n",
    "    g.add((player_uri, BASE.wage_eur, Literal(row['wage_eur'], datatype=XSD.float)))\n",
    "    g.add((player_uri, BASE.weak_foot, Literal(row['weak_foot'], datatype=XSD.integer)))\n",
    "    g.add((player_uri, BASE.weight_kg, Literal(row['weight_kg'], datatype=XSD.float)))\n",
    "    g.add((player_uri, BASE.preferred_foot, Literal(row['preferred_foot'], datatype=XSD.boolean)))\n",
    "\n",
    "    g.add((player_uri, BASE.work_rate, Literal(row['work_rate'], datatype=XSD.string)))\n",
    "    g.add((player_uri, BASE.body_type, Literal(row['body_type'], datatype=XSD.string)))\n",
    "\n",
    "    g.add((player_uri, BASE.movement_acceleration, Literal(row['movement_acceleration'], datatype=XSD.integer)))\n",
    "    g.add((player_uri, BASE.movement_sprint_speed, Literal(row['movement_sprint_speed'], datatype=XSD.integer)))\n",
    "    g.add((player_uri, BASE.movement_agility, Literal(row['movement_agility'], datatype=XSD.integer)))\n",
    "    g.add((player_uri, BASE.movement_reactions, Literal(row['movement_reactions'], datatype=XSD.integer)))\n",
    "    g.add((player_uri, BASE.movement_balance, Literal(row['movement_balance'], datatype=XSD.integer)))\n",
    "\n",
    "    g.add((player_uri, BASE.power_shot_power, Literal(row['power_shot_power'], datatype=XSD.integer)))\n",
    "    g.add((player_uri, BASE.power_jumping, Literal(row['power_jumping'], datatype=XSD.integer)))\n",
    "    g.add((player_uri, BASE.power_stamina, Literal(row['power_stamina'], datatype=XSD.integer)))\n",
    "    g.add((player_uri, BASE.power_strength, Literal(row['power_strength'], datatype=XSD.integer)))\n",
    "    g.add((player_uri, BASE.power_long_shots, Literal(row['power_long_shots'], datatype=XSD.integer)))\n",
    "\n",
    "    g.add((player_uri, BASE.mentality_aggression, Literal(row['mentality_aggression'], datatype=XSD.integer)))\n",
    "    g.add((player_uri, BASE.mentality_interceptions, Literal(row['mentality_interceptions'], datatype=XSD.integer)))\n",
    "    g.add((player_uri, BASE.mentality_positioning, Literal(row['mentality_positioning'], datatype=XSD.integer)))\n",
    "    g.add((player_uri, BASE.mentality_vision, Literal(row['mentality_vision'], datatype=XSD.integer)))\n",
    "    g.add((player_uri, BASE.mentality_penalties, Literal(row['mentality_penalties'], datatype=XSD.integer)))\n",
    "    g.add((player_uri, BASE.mentality_composure, Literal(row['mentality_composure'], datatype=XSD.integer)))\n",
    "\n",
    "    g.add((player_uri, BASE.defending_marking_awareness, Literal(row['defending_marking_awareness'], datatype=XSD.integer)))\n",
    "    g.add((player_uri, BASE.defending_standing_tackle, Literal(row['defending_standing_tackle'], datatype=XSD.integer)))\n",
    "    g.add((player_uri, BASE.defending_sliding_tackle, Literal(row['defending_sliding_tackle'], datatype=XSD.integer)))\n",
    "\n",
    "    g.add((player_uri, BASE.goalkeeping_diving, Literal(row['goalkeeping_diving'], datatype=XSD.integer)))\n",
    "    g.add((player_uri, BASE.goalkeeping_handling, Literal(row['goalkeeping_handling'], datatype=XSD.integer)))\n",
    "    g.add((player_uri, BASE.goalkeeping_kicking, Literal(row['goalkeeping_kicking'], datatype=XSD.integer)))\n",
    "    g.add((player_uri, BASE.goalkeeping_positioning, Literal(row['goalkeeping_positioning'], datatype=XSD.integer)))\n",
    "    g.add((player_uri, BASE.goalkeeping_reflexes, Literal(row['goalkeeping_reflexes'], datatype=XSD.integer)))\n",
    "    g.add((player_uri, BASE.goalkeeping_speed, Literal(row['goalkeeping_speed'], datatype=XSD.integer)))\n",
    "\n",
    "    # Object Properties\n",
    "    g.add((player_uri, BASE.plays_for, club_uri))  # Relationship to Club\n",
    "    g.add((player_uri, BASE.competes_in, league_uri))  # Relationship to League\n",
    "\n",
    "\n",
    "    count += 1\n",
    "    print(f\"\\r{count}/{player_df.shape[0]}\", end=\"\")\n"
   ]
  },
  {
   "cell_type": "code",
   "execution_count": 7,
   "metadata": {},
   "outputs": [],
   "source": [
    "\n",
    "# # Create teammates relationships\n",
    "# from itertools import combinations\n",
    "\n",
    "# print(\"\\nAdding teammates relationships...\")\n",
    "\n",
    "# # Group by team_key and fifa_version to get players in the same team at the same time\n",
    "# team_groups = player_df.groupby(['team_key', 'fifa_version'])['key'].apply(list)\n",
    "\n",
    "# # Iterate over each group (team in a specific FIFA version)\n",
    "# for (team_key, fifa_version), player_keys in team_groups.items():\n",
    "#     # Get all possible pairs of players within the same team (without redundancy)\n",
    "#     for player_a, player_b in combinations(player_keys, 2):\n",
    "#         player_a_uri = BASE[f\"Player_{player_a}\"]\n",
    "#         player_b_uri = BASE[f\"Player_{player_b}\"]\n",
    "        \n",
    "#         # Add teammates relationship (symmetric)\n",
    "#         g.add((player_a_uri, BASE.teammates, player_b_uri))\n",
    "#         g.add((player_b_uri, BASE.teammates, player_a_uri))  # Explicit symmetry (optional)\n",
    "\n",
    "# print(\"Teammates relationships added.\")"
   ]
  },
  {
   "cell_type": "code",
   "execution_count": 8,
   "metadata": {},
   "outputs": [
    {
     "data": {
      "text/plain": [
       "'This part of the code will not be used and the object property \\nwill be removed as the run time is too extensive for the scope of the project'"
      ]
     },
     "execution_count": 8,
     "metadata": {},
     "output_type": "execute_result"
    }
   ],
   "source": [
    "# from multiprocessing import Pool\n",
    "# from itertools import combinations\n",
    "\n",
    "# def process_team(team_players):\n",
    "#     player_uris = [BASE[f\"Player_{player['key']}\"] for _, player in team_players.iterrows()]\n",
    "#     for player_a, player_b in combinations(player_uris, 2):\n",
    "#         g.add((player_a, BASE.plays_with, player_b))\n",
    "#         g.add((player_b, BASE.plays_with, player_a))\n",
    "\n",
    "# teams = [group for _, group in player_df.groupby('team_key')]\n",
    "# with Pool() as pool:\n",
    "#     pool.map(process_team, teams)\n",
    "\n",
    "'''This part of the code will not be used and the object property \n",
    "will be removed as the run time is too extensive for the scope of the project'''"
   ]
  },
  {
   "cell_type": "code",
   "execution_count": 9,
   "metadata": {},
   "outputs": [
    {
     "name": "stdout",
     "output_type": "stream",
     "text": [
      "2163/2163"
     ]
    }
   ],
   "source": [
    "# Clubs\n",
    "count = 0\n",
    "\n",
    "for _, row in team_df.iterrows():\n",
    "    club_uri = BASE[f\"Club_{row['team_key']}\"]\n",
    "    league_uri = BASE[f\"League_{row['league_key']}\"]\n",
    "    rival_uri = BASE[f\"Club_{row['rival_key']}\"]\n",
    "    \n",
    "    # Club type\n",
    "    g.add((club_uri, RDF.type, BASE.Club))\n",
    "    \n",
    "    # Data Properties\n",
    "    g.add((club_uri, BASE.name, Literal(row['team_name'], datatype=XSD.string)))\n",
    "    g.add((club_uri, BASE.overall, Literal(row['overall'], datatype=XSD.integer)))\n",
    "    g.add((club_uri, BASE.attack, Literal(row['attack'], datatype=XSD.integer)))\n",
    "    g.add((club_uri, BASE.midfield, Literal(row['midfield'], datatype=XSD.integer)))\n",
    "    g.add((club_uri, BASE.defence, Literal(row['defence'], datatype=XSD.integer)))\n",
    "    g.add((club_uri, BASE.transfer_budget_eur, Literal(row['transfer_budget_eur'], datatype=XSD.float)))\n",
    "    g.add((club_uri, BASE.club_worth_eur, Literal(row['club_worth_eur'], datatype=XSD.float)))\n",
    "    g.add((club_uri, BASE.starting_xi_average_age, Literal(row['starting_xi_average_age'], datatype=XSD.float)))\n",
    "    g.add((club_uri, BASE.whole_team_average_age, Literal(row['whole_team_average_age'], datatype=XSD.float)))\n",
    "    g.add((club_uri, BASE.domestic_prestige, Literal(row['domestic_prestige'], datatype=XSD.integer)))\n",
    "    g.add((club_uri, BASE.international_prestige, Literal(row['international_prestige'], datatype=XSD.integer)))\n",
    "    \n",
    "    # Object Properties\n",
    "    g.add((club_uri, BASE.part_of_league, league_uri))  # Relationship to League\n",
    "    g.add((club_uri, BASE.rival_with, rival_uri))\n",
    "\n",
    "    # Add Rivals Relation (if rival_key exists)\n",
    "    if not pd.isna(row['rival_key']) and row['rival_key'] in team_df['team_key'].values:\n",
    "        rival_uri = BASE[f\"Club_{row['rival_key']}\"]\n",
    "        # Add symmetric rivalry relationship\n",
    "        g.add((club_uri, BASE.rivals_with, rival_uri))\n",
    "        g.add((rival_uri, BASE.rivals_with, club_uri))  # Ensuring symmetry\n",
    "        \n",
    "    count += 1\n",
    "    print(f\"\\r{count}/{team_df.shape[0]}\", end=\"\")\n",
    "\n",
    "\n"
   ]
  },
  {
   "cell_type": "code",
   "execution_count": 10,
   "metadata": {},
   "outputs": [
    {
     "name": "stdout",
     "output_type": "stream",
     "text": [
      "175/175"
     ]
    }
   ],
   "source": [
    "# Leagues\n",
    "count = 0\n",
    "\n",
    "for _, row in league_df.iterrows():\n",
    "    league_uri = BASE[f\"League_{row['league_key']}\"]\n",
    "    \n",
    "    g.add((league_uri, RDF.type, BASE.League))\n",
    "    \n",
    "    # Data Properties\n",
    "    g.add((league_uri, BASE.name, Literal(row['league_name'], datatype=XSD.string)))\n",
    "    g.add((league_uri, BASE.league_level, Literal(row['league_level'], datatype=XSD.integer)))\n",
    "    g.add((league_uri, BASE.overall, Literal(row['overall'], datatype=XSD.integer)))\n",
    "    g.add((league_uri, BASE.attack, Literal(row['attack'], datatype=XSD.integer)))\n",
    "    g.add((league_uri, BASE.midfield, Literal(row['midfield'], datatype=XSD.integer)))\n",
    "    g.add((league_uri, BASE.defence, Literal(row['defence'], datatype=XSD.integer)))\n",
    "    g.add((league_uri, BASE.transfer_budget_eur, Literal(row['transfer_budget_eur'], datatype=XSD.float)))\n",
    "    g.add((league_uri, BASE.club_worth_eur, Literal(row['club_worth_eur'], datatype=XSD.float)))\n",
    "    g.add((league_uri, BASE.league_nationality_name, Literal(row['league_nationality_name'], datatype=XSD.string)))\n",
    "\n",
    "    count += 1\n",
    "    print(f\"\\r{count}/{league_df.shape[0]}\", end=\"\")\n"
   ]
  },
  {
   "cell_type": "markdown",
   "metadata": {},
   "source": [
    "## Save populated Graph"
   ]
  },
  {
   "cell_type": "code",
   "execution_count": 11,
   "metadata": {},
   "outputs": [
    {
     "data": {
      "text/plain": [
       "<Graph identifier=Nc36b03dd7d3944918639d31d74e40f4a (<class 'rdflib.graph.Graph'>)>"
      ]
     },
     "execution_count": 11,
     "metadata": {},
     "output_type": "execute_result"
    }
   ],
   "source": [
    "# Save the graph to a Turtle file\n",
    "output_file = r\"C:\\mahmoud uni\\TU\\SS2024\\KGs\\Portfolio\\dataset\\EA_FC_knowledge_graph.ttl\"\n",
    "g.serialize(destination=output_file, format=\"ttl\")"
   ]
  },
  {
   "cell_type": "markdown",
   "metadata": {},
   "source": [
    "## Validation"
   ]
  },
  {
   "cell_type": "code",
   "execution_count": 12,
   "metadata": {},
   "outputs": [
    {
     "name": "stdout",
     "output_type": "stream",
     "text": [
      "Total triples: 503731\n",
      "Total Players: 8672\n",
      "Total Teams: 2163\n",
      "Total Leagues: 175\n"
     ]
    }
   ],
   "source": [
    "# Count all triples\n",
    "print(f\"Total triples: {len(g)}\")\n",
    "\n",
    "# class membership\n",
    "player_count = len(list(g.subjects(RDF.type, BASE.Player)))\n",
    "print(f\"Total Players: {player_count}\")\n",
    "\n",
    "team_count = len(list(g.subjects(RDF.type, BASE.Club)))\n",
    "print(f\"Total Teams: {team_count}\")\n",
    "\n",
    "league_count = len(list(g.subjects(RDF.type, BASE.League)))\n",
    "print(f\"Total Leagues: {league_count}\")"
   ]
  },
  {
   "cell_type": "code",
   "execution_count": 13,
   "metadata": {},
   "outputs": [
    {
     "name": "stdout",
     "output_type": "stream",
     "text": [
      "Players without 'plays_for' relationships: 0\n"
     ]
    }
   ],
   "source": [
    "# players missing plays_for relationship\n",
    "players = g.subjects(RDF.type, BASE.Player)\n",
    "missing_plays_for = [\n",
    "    player for player in players \n",
    "    if not (player, BASE.plays_for, None) in g\n",
    "]\n",
    "\n",
    "print(f\"Players without 'plays_for' relationships: {len(missing_plays_for)}\")"
   ]
  },
  {
   "cell_type": "code",
   "execution_count": 14,
   "metadata": {},
   "outputs": [
    {
     "name": "stdout",
     "output_type": "stream",
     "text": [
      "All 'plays_for' relationships are valid.\n"
     ]
    }
   ],
   "source": [
    "invalid_plays_for = [\n",
    "    (player, club) for player, club in g.subject_objects(BASE.plays_for)\n",
    "    if not (club, RDF.type, BASE.Club) in g\n",
    "]\n",
    "\n",
    "if invalid_plays_for:\n",
    "    print(\"Invalid 'plays_for' relationships found:\")\n",
    "    for player, club in invalid_plays_for:\n",
    "        print(f\"Player {player} points to non-club {club}\")\n",
    "else:\n",
    "    print(\"All 'plays_for' relationships are valid.\")"
   ]
  },
  {
   "cell_type": "code",
   "execution_count": 15,
   "metadata": {},
   "outputs": [
    {
     "name": "stdout",
     "output_type": "stream",
     "text": [
      "Clubs missing 'part_of_league' relationships: 0\n"
     ]
    }
   ],
   "source": [
    "clubs = g.subjects(RDF.type, BASE.Club)\n",
    "missing_league = [\n",
    "    club for club in clubs \n",
    "    if not (club, BASE.part_of_league, None) in g\n",
    "]\n",
    "\n",
    "print(f\"Clubs missing 'part_of_league' relationships: {len(missing_league)}\")\n"
   ]
  },
  {
   "cell_type": "code",
   "execution_count": 16,
   "metadata": {},
   "outputs": [
    {
     "name": "stdout",
     "output_type": "stream",
     "text": [
      "Isolated nodes: 0\n"
     ]
    }
   ],
   "source": [
    "# isolated nodes (not appearing as subject or object in any triple)\n",
    "nodes = set(g.subjects()).union(set(g.objects()))\n",
    "isolated_nodes= [\n",
    "    node for node in nodes \n",
    "    if not (node, None, None) in g and not (None, None, node) in g\n",
    "]\n",
    "\n",
    "print(f\"Isolated nodes: {len(isolated_nodes)}\")\n"
   ]
  },
  {
   "cell_type": "code",
   "execution_count": 17,
   "metadata": {},
   "outputs": [],
   "source": [
    "## if needed\n",
    "\n",
    "# dtype_player = {\n",
    "#     \"key\": \"str\",                           # Unique player key\n",
    "#     \"player_id\": \"int64\",                   # Player ID as integer\n",
    "#     \"player_url\": \"str\",                    # Player URL\n",
    "#     \"fifa_version\": \"int64\",                # FIFA version\n",
    "#     \"long_name\": \"str\",                     # Player full name\n",
    "#     \"player_positions\": \"str\",              # Positions (e.g., \"ST, LW\")\n",
    "#     \"overall\": \"int64\",                     # Overall rating\n",
    "#     \"position_category\": \"str\",             # Position category (e.g., ATT, MID)\n",
    "#     \"potential\": \"int64\",                   # Player's potential rating\n",
    "#     \"value_eur\": \"float64\",                 # Player's value in euros\n",
    "#     \"wage_eur\": \"float64\",                  # Wage in euros (converted from string)\n",
    "#     \"age\": \"int64\",                         # Age\n",
    "#     \"height_cm\": \"int64\",                   # Height in cm\n",
    "#     \"weight_kg\": \"int64\",                   # Weight in kg\n",
    "#     \"club_team_id\": \"int64\",                # Club team ID\n",
    "#     \"team_key\": \"str\",                      # Team key\n",
    "#     \"league_name\": \"str\",                   # League name\n",
    "#     \"league_nationality_name\": \"str\",       # League's nationality\n",
    "#     \"league_id\": \"int64\",                   # League ID\n",
    "#     \"league_key\": \"str\",                    # League key\n",
    "#     \"club_name\": \"str\",                     # Club name\n",
    "#     \"league_level\": \"int64\",                # League level\n",
    "#     \"club_position\": \"int64\",             # Club position (float due to NaN or partial values)\n",
    "#     \"club_joined_date\": \"str\",              # Date when player joined the club\n",
    "#     \"club_contract_valid_until_year\": \"int64\",  # Contract valid year\n",
    "#     \"nationality_id\": \"int64\",              # Nationality ID\n",
    "#     \"nationality_name\": \"str\",              # Nationality name\n",
    "#     \"preferred_foot\": \"int64\",            # Preferred foot (0 or 1, float to handle NaN)\n",
    "#     \"weak_foot\": \"int64\",                   # Weak foot rating\n",
    "#     \"skill_moves\": \"int64\",                 # Skill moves rating\n",
    "#     \"international_reputation\": \"int64\",   # International reputation\n",
    "#     \"work_rate\": \"str\",                     # Work rate (e.g., High/Low)\n",
    "#     \"body_type\": \"str\",                     # Body type (e.g., Unique, Normal)\n",
    "#     \"pace\": \"int64\",                      # Pace rating\n",
    "#     \"shooting\": \"int64\",                  # Shooting rating\n",
    "#     \"passing\": \"int64\",                   # Passing rating\n",
    "#     \"dribbling\": \"int64\",                 # Dribbling rating\n",
    "#     \"defending\": \"int64\",                 # Defending rating\n",
    "#     \"physic\": \"int64\",                    # Physical rating\n",
    "#     \"attacking_crossing\": \"int64\",          # Attacking crossing rating\n",
    "#     \"attacking_finishing\": \"int64\",         # Attacking finishing rating\n",
    "#     \"attacking_heading_accuracy\": \"int64\", # Heading accuracy\n",
    "#     \"attacking_short_passing\": \"int64\",     # Short passing\n",
    "#     \"attacking_volleys\": \"int64\",           # Volleys\n",
    "#     \"skill_dribbling\": \"int64\",             # Dribbling skill\n",
    "#     \"skill_curve\": \"int64\",                 # Curve skill\n",
    "#     \"skill_fk_accuracy\": \"int64\",           # Free-kick accuracy\n",
    "#     \"skill_long_passing\": \"int64\",          # Long passing skill\n",
    "#     \"skill_ball_control\": \"int64\",          # Ball control skill\n",
    "#     \"movement_acceleration\": \"int64\",       # Acceleration\n",
    "#     \"movement_sprint_speed\": \"int64\",       # Sprint speed\n",
    "#     \"movement_agility\": \"int64\",            # Agility\n",
    "#     \"movement_reactions\": \"int64\",          # Reactions\n",
    "#     \"movement_balance\": \"int64\",            # Balance\n",
    "#     \"power_shot_power\": \"int64\",            # Shot power\n",
    "#     \"power_jumping\": \"int64\",               # Jumping\n",
    "#     \"power_stamina\": \"int64\",               # Stamina\n",
    "#     \"power_strength\": \"int64\",              # Strength\n",
    "#     \"power_long_shots\": \"int64\",            # Long shots\n",
    "#     \"mentality_aggression\": \"int64\",        # Aggression\n",
    "#     \"mentality_interceptions\": \"int64\",     # Interceptions\n",
    "#     \"mentality_positioning\": \"int64\",       # Positioning\n",
    "#     \"mentality_vision\": \"int64\",            # Vision\n",
    "#     \"mentality_penalties\": \"int64\",         # Penalties\n",
    "#     \"mentality_composure\": \"int64\",       # Composure (float due to NaN or partial values)\n",
    "#     \"defending_marking_awareness\": \"int64\", # Marking awareness\n",
    "#     \"defending_standing_tackle\": \"int64\",   # Standing tackle\n",
    "#     \"defending_sliding_tackle\": \"int64\",    # Sliding tackle\n",
    "#     \"goalkeeping_diving\": \"int64\",          # Goalkeeping diving\n",
    "#     \"goalkeeping_handling\": \"int64\",        # Goalkeeping handling\n",
    "#     \"goalkeeping_kicking\": \"int64\",         # Goalkeeping kicking\n",
    "#     \"goalkeeping_positioning\": \"int64\",     # Goalkeeping positioning\n",
    "#     \"goalkeeping_reflexes\": \"int64\",        # Goalkeeping reflexes\n",
    "#     \"goalkeeping_speed\": \"int64\",         # Goalkeeping speed\n",
    "#     \"on_loan\": \"int64\",                   # On loan status (0 or 1, float to handle NaN)\n",
    "#     \"age_group\": \"str\",                     # Age group\n",
    "#     \"overall_range\": \"str\",                 # Overall rating range\n",
    "# }\n"
   ]
  }
 ],
 "metadata": {
  "kernelspec": {
   "display_name": "kg_project",
   "language": "python",
   "name": "python3"
  },
  "language_info": {
   "codemirror_mode": {
    "name": "ipython",
    "version": 3
   },
   "file_extension": ".py",
   "mimetype": "text/x-python",
   "name": "python",
   "nbconvert_exporter": "python",
   "pygments_lexer": "ipython3",
   "version": "3.9.20"
  }
 },
 "nbformat": 4,
 "nbformat_minor": 2
}
